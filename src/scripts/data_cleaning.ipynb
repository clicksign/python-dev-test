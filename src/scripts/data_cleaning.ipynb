{
 "cells": [
  {
   "cell_type": "code",
   "execution_count": 113,
   "metadata": {},
   "outputs": [],
   "source": [
    "import pandas as pd\n",
    "import pandera as pa"
   ]
  },
  {
   "cell_type": "code",
   "execution_count": 114,
   "metadata": {},
   "outputs": [],
   "source": [
    "#Criação do dataframe\n",
    "path = r'/home/vegh/Desktop/Estudos/python-dev-test/data/Adult.data'\n",
    "\n",
    "df_sensus = pd.read_csv(path, sep=',')"
   ]
  },
  {
   "cell_type": "code",
   "execution_count": 115,
   "metadata": {},
   "outputs": [
    {
     "data": {
      "text/plain": [
       "(32560, 15)"
      ]
     },
     "execution_count": 115,
     "metadata": {},
     "output_type": "execute_result"
    }
   ],
   "source": [
    "#Verificação do número de linhas e colunas\n",
    "df_sensus.shape"
   ]
  },
  {
   "cell_type": "code",
   "execution_count": 116,
   "metadata": {},
   "outputs": [
    {
     "data": {
      "text/html": [
       "<div>\n",
       "<style scoped>\n",
       "    .dataframe tbody tr th:only-of-type {\n",
       "        vertical-align: middle;\n",
       "    }\n",
       "\n",
       "    .dataframe tbody tr th {\n",
       "        vertical-align: top;\n",
       "    }\n",
       "\n",
       "    .dataframe thead th {\n",
       "        text-align: right;\n",
       "    }\n",
       "</style>\n",
       "<table border=\"1\" class=\"dataframe\">\n",
       "  <thead>\n",
       "    <tr style=\"text-align: right;\">\n",
       "      <th></th>\n",
       "      <th>39</th>\n",
       "      <th>State-gov</th>\n",
       "      <th>77516</th>\n",
       "      <th>Bachelors</th>\n",
       "      <th>13</th>\n",
       "      <th>Never-married</th>\n",
       "      <th>Adm-clerical</th>\n",
       "      <th>Not-in-family</th>\n",
       "      <th>White</th>\n",
       "      <th>Male</th>\n",
       "      <th>2174</th>\n",
       "      <th>0</th>\n",
       "      <th>40</th>\n",
       "      <th>United-States</th>\n",
       "      <th>&lt;=50K</th>\n",
       "    </tr>\n",
       "  </thead>\n",
       "  <tbody>\n",
       "    <tr>\n",
       "      <th>26601</th>\n",
       "      <td>25</td>\n",
       "      <td>Private</td>\n",
       "      <td>64860</td>\n",
       "      <td>Some-college</td>\n",
       "      <td>10</td>\n",
       "      <td>Married-spouse-absent</td>\n",
       "      <td>Adm-clerical</td>\n",
       "      <td>Unmarried</td>\n",
       "      <td>White</td>\n",
       "      <td>Female</td>\n",
       "      <td>0</td>\n",
       "      <td>0</td>\n",
       "      <td>22</td>\n",
       "      <td>United-States</td>\n",
       "      <td>&lt;=50K</td>\n",
       "    </tr>\n",
       "  </tbody>\n",
       "</table>\n",
       "</div>"
      ],
      "text/plain": [
       "       39  State-gov   77516      Bachelors   13           Never-married  \\\n",
       "26601  25    Private   64860   Some-college   10   Married-spouse-absent   \n",
       "\n",
       "        Adm-clerical  Not-in-family   White     Male  2174   0   40  \\\n",
       "26601   Adm-clerical      Unmarried   White   Female     0   0   22   \n",
       "\n",
       "        United-States   <=50K  \n",
       "26601   United-States   <=50K  "
      ]
     },
     "execution_count": 116,
     "metadata": {},
     "output_type": "execute_result"
    }
   ],
   "source": [
    "df_sensus.sample()"
   ]
  },
  {
   "cell_type": "code",
   "execution_count": 117,
   "metadata": {},
   "outputs": [],
   "source": [
    "#Normalização das colunas\n",
    "columns = ['age', 'workclass', 'fnlwgt', 'education', 'education_num', 'marital_status',\n",
    "           'occupation', 'relationship', 'race', 'sex', 'capital_gain', 'capital_loss',\n",
    "           'hours_per_week', 'native_country', 'class']\n",
    "\n",
    "df_sensus.columns = columns"
   ]
  },
  {
   "cell_type": "code",
   "execution_count": 118,
   "metadata": {},
   "outputs": [
    {
     "name": "stdout",
     "output_type": "stream",
     "text": [
      "  schema_context        column           check check_number failure_case index\n",
      "0         Column           age  dtype('int64')         None       object  None\n",
      "1         Column        fnlwgt  dtype('int64')         None       object  None\n",
      "2         Column  capital_gain  dtype('int64')         None       object  None\n"
     ]
    }
   ],
   "source": [
    "#Validação do schema baseado nos tipos de dados das colunas\n",
    "schema = pa.DataFrameSchema(\n",
    "    columns = {\n",
    "        'age':pa.Column(pa.Int),\n",
    "        'workclass':pa.Column(pa.String),\n",
    "        'fnlwgt':pa.Column(pa.Int),\n",
    "        'education':pa.Column(pa.String),\n",
    "        'education_num':pa.Column(pa.Int),\n",
    "        'marital_status':pa.Column(pa.String),\n",
    "        'occupation':pa.Column(pa.String),\n",
    "        'relationship':pa.Column(pa.String),\n",
    "        'race':pa.Column(pa.String),\n",
    "        'sex':pa.Column(pa.String),\n",
    "        'capital_gain':pa.Column(pa.Int),\n",
    "        'capital_loss':pa.Column(pa.Int),\n",
    "        'hours_per_week':pa.Column(pa.Int),\n",
    "        'native_country':pa.Column(pa.String),\n",
    "        'class':pa.Column(pa.String)\n",
    "\n",
    "\n",
    "    }\n",
    ")\n",
    "\n",
    "try:\n",
    "    schema.validate(df_sensus, lazy=True)\n",
    "except Exception as err:\n",
    "    print(err.failure_cases) \n",
    "\n",
    "\n",
    "        \n",
    "    "
   ]
  },
  {
   "cell_type": "code",
   "execution_count": 119,
   "metadata": {},
   "outputs": [
    {
     "data": {
      "text/html": [
       "<div>\n",
       "<style scoped>\n",
       "    .dataframe tbody tr th:only-of-type {\n",
       "        vertical-align: middle;\n",
       "    }\n",
       "\n",
       "    .dataframe tbody tr th {\n",
       "        vertical-align: top;\n",
       "    }\n",
       "\n",
       "    .dataframe thead th {\n",
       "        text-align: right;\n",
       "    }\n",
       "</style>\n",
       "<table border=\"1\" class=\"dataframe\">\n",
       "  <thead>\n",
       "    <tr style=\"text-align: right;\">\n",
       "      <th></th>\n",
       "      <th>age</th>\n",
       "      <th>workclass</th>\n",
       "      <th>fnlwgt</th>\n",
       "      <th>education</th>\n",
       "      <th>education_num</th>\n",
       "      <th>marital_status</th>\n",
       "      <th>occupation</th>\n",
       "      <th>relationship</th>\n",
       "      <th>race</th>\n",
       "      <th>sex</th>\n",
       "      <th>capital_gain</th>\n",
       "      <th>capital_loss</th>\n",
       "      <th>hours_per_week</th>\n",
       "      <th>native_country</th>\n",
       "      <th>class</th>\n",
       "    </tr>\n",
       "  </thead>\n",
       "  <tbody>\n",
       "    <tr>\n",
       "      <th>22196</th>\n",
       "      <td>B</td>\n",
       "      <td>Self-emp-not-inc</td>\n",
       "      <td>182771</td>\n",
       "      <td>Bachelors</td>\n",
       "      <td>13</td>\n",
       "      <td>Married-civ-spouse</td>\n",
       "      <td>Exec-managerial</td>\n",
       "      <td>Husband</td>\n",
       "      <td>Asian-Pac-Islander</td>\n",
       "      <td>Male</td>\n",
       "      <td>0</td>\n",
       "      <td>0</td>\n",
       "      <td>48</td>\n",
       "      <td>South</td>\n",
       "      <td>&gt;50K</td>\n",
       "    </tr>\n",
       "    <tr>\n",
       "      <th>32539</th>\n",
       "      <td>D</td>\n",
       "      <td>State-gov</td>\n",
       "      <td>252208</td>\n",
       "      <td>HS-grad</td>\n",
       "      <td>9</td>\n",
       "      <td>Separated</td>\n",
       "      <td>Adm-clerical</td>\n",
       "      <td>Own-child</td>\n",
       "      <td>White</td>\n",
       "      <td>Female</td>\n",
       "      <td>0</td>\n",
       "      <td>0</td>\n",
       "      <td>40</td>\n",
       "      <td>United-States</td>\n",
       "      <td>&lt;=50K</td>\n",
       "    </tr>\n",
       "  </tbody>\n",
       "</table>\n",
       "</div>"
      ],
      "text/plain": [
       "      age          workclass   fnlwgt   education  education_num  \\\n",
       "22196   B   Self-emp-not-inc   182771   Bachelors             13   \n",
       "32539   D          State-gov   252208     HS-grad              9   \n",
       "\n",
       "            marital_status        occupation relationship  \\\n",
       "22196   Married-civ-spouse   Exec-managerial      Husband   \n",
       "32539            Separated      Adm-clerical    Own-child   \n",
       "\n",
       "                      race      sex capital_gain  capital_loss  \\\n",
       "22196   Asian-Pac-Islander     Male            0             0   \n",
       "32539                White   Female            0             0   \n",
       "\n",
       "       hours_per_week  native_country   class  \n",
       "22196              48           South    >50K  \n",
       "32539              40   United-States   <=50K  "
      ]
     },
     "execution_count": 119,
     "metadata": {},
     "output_type": "execute_result"
    }
   ],
   "source": [
    "#Validação de caracteres não numéricos das colunas do tipo inteiro\n",
    "df_sensus.loc[df_sensus['age'].apply(lambda x: not x.isnumeric())]\n",
    "#df_sensus.loc[df_sensus['fnlwgt'].apply(lambda x: not x.isnumeric())]\n",
    "#df_sensus.loc[df_sensus['capital_gain'].apply(lambda x: not x.isnumeric())]"
   ]
  },
  {
   "cell_type": "code",
   "execution_count": 120,
   "metadata": {},
   "outputs": [],
   "source": [
    "#Retirada de caracteres não númericos nas colunas numéricas de tipo inteiro\n",
    "df_sensus.age = df_sensus.age.replace('B', 0).replace('D', 0)\n",
    "df_sensus.fnlwgt = df_sensus.fnlwgt.replace(' C', 0)\n",
    "df_sensus.capital_gain = df_sensus.capital_gain.replace(' A', 0)\n",
    "df_sensus.occupation = df_sensus.occupation.replace('?', 'unidentified')"
   ]
  },
  {
   "cell_type": "code",
   "execution_count": 121,
   "metadata": {},
   "outputs": [
    {
     "data": {
      "text/plain": [
       "age                int64\n",
       "workclass         object\n",
       "fnlwgt             int64\n",
       "education         object\n",
       "education_num      int64\n",
       "marital_status    object\n",
       "occupation        object\n",
       "relationship      object\n",
       "race              object\n",
       "sex               object\n",
       "capital_gain       int64\n",
       "capital_loss       int64\n",
       "hours_per_week     int64\n",
       "native_country    object\n",
       "class             object\n",
       "dtype: object"
      ]
     },
     "execution_count": 121,
     "metadata": {},
     "output_type": "execute_result"
    }
   ],
   "source": [
    "#Conversão das colunas de string para inteiro\n",
    "int_columns = ['age', 'fnlwgt', 'capital_gain']\n",
    "\n",
    "for col in int_columns:\n",
    "    if col in df_sensus.columns:\n",
    "        df_sensus[col] = df_sensus[col].astype('int64')\n",
    "\n",
    "df_sensus.dtypes"
   ]
  },
  {
   "cell_type": "code",
   "execution_count": 128,
   "metadata": {},
   "outputs": [],
   "source": [
    "#Criação de uma nova coluna de class_type utilizando lambda, facilitando a distinção entre as faixas de salário\n",
    "udf_class = lambda row: row.replace('<=50K', 'B') if row != '>50K' else row.replace('>50K\t', 'A')\n",
    "\n",
    "df_sensus['class_type'] = df_sensus['class'].apply(udf_class)"
   ]
  },
  {
   "cell_type": "code",
   "execution_count": 129,
   "metadata": {},
   "outputs": [
    {
     "data": {
      "text/html": [
       "<div>\n",
       "<style scoped>\n",
       "    .dataframe tbody tr th:only-of-type {\n",
       "        vertical-align: middle;\n",
       "    }\n",
       "\n",
       "    .dataframe tbody tr th {\n",
       "        vertical-align: top;\n",
       "    }\n",
       "\n",
       "    .dataframe thead th {\n",
       "        text-align: right;\n",
       "    }\n",
       "</style>\n",
       "<table border=\"1\" class=\"dataframe\">\n",
       "  <thead>\n",
       "    <tr style=\"text-align: right;\">\n",
       "      <th></th>\n",
       "      <th>adult_id</th>\n",
       "      <th>age</th>\n",
       "      <th>workclass</th>\n",
       "      <th>fnlwgt</th>\n",
       "      <th>education</th>\n",
       "      <th>education_num</th>\n",
       "      <th>marital_status</th>\n",
       "      <th>occupation</th>\n",
       "      <th>relationship</th>\n",
       "      <th>race</th>\n",
       "      <th>sex</th>\n",
       "      <th>capital_gain</th>\n",
       "      <th>capital_loss</th>\n",
       "      <th>hours_per_week</th>\n",
       "      <th>native_country</th>\n",
       "      <th>class</th>\n",
       "      <th>class_type</th>\n",
       "    </tr>\n",
       "    <tr>\n",
       "      <th>id</th>\n",
       "      <th></th>\n",
       "      <th></th>\n",
       "      <th></th>\n",
       "      <th></th>\n",
       "      <th></th>\n",
       "      <th></th>\n",
       "      <th></th>\n",
       "      <th></th>\n",
       "      <th></th>\n",
       "      <th></th>\n",
       "      <th></th>\n",
       "      <th></th>\n",
       "      <th></th>\n",
       "      <th></th>\n",
       "      <th></th>\n",
       "      <th></th>\n",
       "      <th></th>\n",
       "    </tr>\n",
       "  </thead>\n",
       "  <tbody>\n",
       "    <tr>\n",
       "      <th>27768</th>\n",
       "      <td>27768</td>\n",
       "      <td>27</td>\n",
       "      <td>Private</td>\n",
       "      <td>305647</td>\n",
       "      <td>Assoc-acdm</td>\n",
       "      <td>12</td>\n",
       "      <td>Married-civ-spouse</td>\n",
       "      <td>Adm-clerical</td>\n",
       "      <td>Husband</td>\n",
       "      <td>White</td>\n",
       "      <td>Male</td>\n",
       "      <td>0</td>\n",
       "      <td>0</td>\n",
       "      <td>40</td>\n",
       "      <td>United-States</td>\n",
       "      <td>&gt;50K</td>\n",
       "      <td>&gt;50K</td>\n",
       "    </tr>\n",
       "  </tbody>\n",
       "</table>\n",
       "</div>"
      ],
      "text/plain": [
       "       adult_id  age workclass  fnlwgt    education  education_num  \\\n",
       "id                                                                   \n",
       "27768     27768   27   Private  305647   Assoc-acdm             12   \n",
       "\n",
       "            marital_status     occupation relationship    race    sex  \\\n",
       "id                                                                      \n",
       "27768   Married-civ-spouse   Adm-clerical      Husband   White   Male   \n",
       "\n",
       "       capital_gain  capital_loss  hours_per_week  native_country  class  \\\n",
       "id                                                                         \n",
       "27768             0             0              40   United-States   >50K   \n",
       "\n",
       "      class_type  \n",
       "id                \n",
       "27768       >50K  "
      ]
     },
     "execution_count": 129,
     "metadata": {},
     "output_type": "execute_result"
    }
   ],
   "source": [
    "#Troca do nome da coluna index\n",
    "df_sensus.index.name = 'id'\n",
    "df_sensus.sample()\n"
   ]
  },
  {
   "cell_type": "code",
   "execution_count": 124,
   "metadata": {},
   "outputs": [
    {
     "data": {
      "text/plain": [
       "id\n",
       "0            0\n",
       "1            1\n",
       "2            2\n",
       "3            3\n",
       "4            4\n",
       "         ...  \n",
       "32555    32555\n",
       "32556    32556\n",
       "32557    32557\n",
       "32558    32558\n",
       "32559    32559\n",
       "Name: adult_id, Length: 32560, dtype: int64"
      ]
     },
     "execution_count": 124,
     "metadata": {},
     "output_type": "execute_result"
    }
   ],
   "source": [
    "#Criação de uma coluna de id para integração com o banco de dados utilizando o index\n",
    "df_sensus['adult_id'] = df_sensus.index\n",
    "df_sensus.adult_id.astype('int64')"
   ]
  },
  {
   "cell_type": "code",
   "execution_count": 125,
   "metadata": {},
   "outputs": [
    {
     "data": {
      "text/plain": [
       "adult_id           int64\n",
       "age                int64\n",
       "workclass         object\n",
       "fnlwgt             int64\n",
       "education         object\n",
       "education_num      int64\n",
       "marital_status    object\n",
       "occupation        object\n",
       "relationship      object\n",
       "race              object\n",
       "sex               object\n",
       "capital_gain       int64\n",
       "capital_loss       int64\n",
       "hours_per_week     int64\n",
       "native_country    object\n",
       "class             object\n",
       "class_type        object\n",
       "dtype: object"
      ]
     },
     "execution_count": 125,
     "metadata": {},
     "output_type": "execute_result"
    }
   ],
   "source": [
    "#Reorganização das colunas\n",
    "temp_cols = df_sensus.columns.tolist()\n",
    "new_cols = temp_cols[-1:] + temp_cols[:-1]\n",
    "df_sensus = df_sensus[new_cols]\n",
    "df_sensus.dtypes"
   ]
  },
  {
   "cell_type": "code",
   "execution_count": 126,
   "metadata": {},
   "outputs": [
    {
     "data": {
      "text/html": [
       "<div>\n",
       "<style scoped>\n",
       "    .dataframe tbody tr th:only-of-type {\n",
       "        vertical-align: middle;\n",
       "    }\n",
       "\n",
       "    .dataframe tbody tr th {\n",
       "        vertical-align: top;\n",
       "    }\n",
       "\n",
       "    .dataframe thead th {\n",
       "        text-align: right;\n",
       "    }\n",
       "</style>\n",
       "<table border=\"1\" class=\"dataframe\">\n",
       "  <thead>\n",
       "    <tr style=\"text-align: right;\">\n",
       "      <th></th>\n",
       "      <th>adult_id</th>\n",
       "      <th>age</th>\n",
       "      <th>workclass</th>\n",
       "      <th>fnlwgt</th>\n",
       "      <th>education</th>\n",
       "      <th>education_num</th>\n",
       "      <th>marital_status</th>\n",
       "      <th>occupation</th>\n",
       "      <th>relationship</th>\n",
       "      <th>race</th>\n",
       "      <th>sex</th>\n",
       "      <th>capital_gain</th>\n",
       "      <th>capital_loss</th>\n",
       "      <th>hours_per_week</th>\n",
       "      <th>native_country</th>\n",
       "      <th>class</th>\n",
       "      <th>class_type</th>\n",
       "    </tr>\n",
       "    <tr>\n",
       "      <th>id</th>\n",
       "      <th></th>\n",
       "      <th></th>\n",
       "      <th></th>\n",
       "      <th></th>\n",
       "      <th></th>\n",
       "      <th></th>\n",
       "      <th></th>\n",
       "      <th></th>\n",
       "      <th></th>\n",
       "      <th></th>\n",
       "      <th></th>\n",
       "      <th></th>\n",
       "      <th></th>\n",
       "      <th></th>\n",
       "      <th></th>\n",
       "      <th></th>\n",
       "      <th></th>\n",
       "    </tr>\n",
       "  </thead>\n",
       "  <tbody>\n",
       "    <tr>\n",
       "      <th>7871</th>\n",
       "      <td>7871</td>\n",
       "      <td>81</td>\n",
       "      <td>?</td>\n",
       "      <td>162882</td>\n",
       "      <td>HS-grad</td>\n",
       "      <td>9</td>\n",
       "      <td>Divorced</td>\n",
       "      <td>?</td>\n",
       "      <td>Not-in-family</td>\n",
       "      <td>White</td>\n",
       "      <td>Female</td>\n",
       "      <td>0</td>\n",
       "      <td>0</td>\n",
       "      <td>35</td>\n",
       "      <td>United-States</td>\n",
       "      <td>&lt;=50K</td>\n",
       "      <td>B</td>\n",
       "    </tr>\n",
       "  </tbody>\n",
       "</table>\n",
       "</div>"
      ],
      "text/plain": [
       "      adult_id  age workclass  fnlwgt education  education_num marital_status  \\\n",
       "id                                                                              \n",
       "7871      7871   81         ?  162882   HS-grad              9       Divorced   \n",
       "\n",
       "     occupation    relationship    race      sex  capital_gain  capital_loss  \\\n",
       "id                                                                             \n",
       "7871          ?   Not-in-family   White   Female             0             0   \n",
       "\n",
       "      hours_per_week  native_country   class class_type  \n",
       "id                                                       \n",
       "7871              35   United-States   <=50K          B  "
      ]
     },
     "execution_count": 126,
     "metadata": {},
     "output_type": "execute_result"
    }
   ],
   "source": [
    "df_sensus.sample()"
   ]
  },
  {
   "cell_type": "code",
   "execution_count": 127,
   "metadata": {},
   "outputs": [],
   "source": [
    "# Cria um csv com os dados transformados \n",
    "#Achei mais interessante não automatizar a transformação por preferir analisar e ter resposta visual das alterações realizadas\n",
    "to_path = r'/home/vegh/Desktop/Estudos/python-dev-test/data/adult.csv'\n",
    "df_sensus.to_csv(to_path, sep=',', index=False, header=False)"
   ]
  }
 ],
 "metadata": {
  "kernelspec": {
   "display_name": "Python 3.8.10 64-bit",
   "language": "python",
   "name": "python3"
  },
  "language_info": {
   "codemirror_mode": {
    "name": "ipython",
    "version": 3
   },
   "file_extension": ".py",
   "mimetype": "text/x-python",
   "name": "python",
   "nbconvert_exporter": "python",
   "pygments_lexer": "ipython3",
   "version": "3.8.10"
  },
  "orig_nbformat": 4,
  "vscode": {
   "interpreter": {
    "hash": "916dbcbb3f70747c44a77c7bcd40155683ae19c65e1c03b4aa3499c5328201f1"
   }
  }
 },
 "nbformat": 4,
 "nbformat_minor": 2
}

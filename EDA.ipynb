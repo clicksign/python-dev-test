{
 "cells": [
  {
   "cell_type": "code",
   "execution_count": 1,
   "id": "e150ce80",
   "metadata": {
    "ExecuteTime": {
     "end_time": "2022-07-28T23:25:45.182821Z",
     "start_time": "2022-07-28T23:25:37.886909Z"
    }
   },
   "outputs": [],
   "source": [
    "import pandas as pd\n",
    "import seaborn as sns\n",
    "import matplotlib.pyplot as plt\n",
    "import numpy as np"
   ]
  },
  {
   "cell_type": "markdown",
   "id": "dd6b3e9a",
   "metadata": {},
   "source": [
    "# Definitions"
   ]
  },
  {
   "cell_type": "markdown",
   "id": "4ff770bc",
   "metadata": {},
   "source": [
    "1. Title of Database: adult\n",
    "\n",
    "2. Number of Attributes \n",
    "   6 continuous, 8 nominal attributes.\n",
    "\n",
    "3. Attribute type: \n",
    "\n",
    "- age           : continuous.\n",
    "- workclass     : Private, Self-emp-not-inc, Self-emp-inc, Federal-gov, Local-gov, State-gov, Without-pay, Never-worked.\n",
    "- fnlwgt        : continuous.\n",
    "- education     : Bachelors, Some-college, 11th, HS-grad, Prof-school, Assoc-acdm, Assoc-voc, 9th, 7th-8th, 12th, Masters, 1st-4th, 10th, Doctorate, 5th-6th, Preschool.\n",
    "- education-num : continuous.\n",
    "- marital-status: Married-civ-spouse, Divorced, Never-married, Separated, Widowed, Married-spouse-absent, Married-AF-spouse.\n",
    "- occupation    : \n",
    "      Tech-support, Craft-repair, Other-service, Sales, Exec-managerial, Prof-specialty, Handlers-cleaners, Machine-op-inspct, Adm-clerical, Farming-fishing, Transport-moving, Priv-house-serv, Protective-serv, Armed-Forces.\n",
    "- relationship  : Wife, Own-child, Husband, Not-in-family, Other-relative, Unmarried.\n",
    "- race          : White, Asian-Pac-Islander, Amer-Indian-Eskimo, Other, Black.\n",
    "- sex           : Female, Male.\n",
    "- capital-gain  : continuous.\n",
    "- capital-loss  : continuous.\n",
    "- hours-per-week: continuous.\n",
    "- native-country: \n",
    "      United-States, Cambodia, England, Puerto-Rico, Canada, Germany, Outlying-US(Guam-USVI-etc), India, Japan, Greece, South, China, Cuba, Iran, Honduras, Philippines, Italy, Poland, Jamaica, Vietnam, Mexico, Portugal, Ireland, France, Dominican-Republic, Laos, Ecuador, Taiwan, Haiti, Columbia, Hungary, Guatemala, Nicaragua, Scotland, Thailand, Yugoslavia, El-Salvador, Trinadad&Tobago, Peru, Hong, Holand-Netherlands.\n",
    "- class         : >50K, <=50K\n",
    "\n",
    "3. Attribute Description: \n",
    "\n",
    "- age           : The age of an individual;\n",
    "- workclass     : A general term to represent the employment status of an individual;\n",
    "- fnlwgt        : Final weight. In other words, this is the number of people the census believes the entry represents;\n",
    "- education     : The highest level of education achieved by an individual;\n",
    "- education-num : The highest level of education achieved in numerical form;\n",
    "- marital-status: Marital status of an individual. Married­civ­spouse corresponds to a civilian spouse while Married­AF­spouse is a spouse in the Armed Forces;\n",
    "- occupation    : The general type of occupation of an individual;\n",
    "- relationship  : Represents what this individual is relative to others. For example an individual could be a Husband. Each entry only has one relationship attribute and is somewhat redundant with marital status. We might not make use of this attribute at all;\n",
    "- race          : Descriptions of an individual’s race;\n",
    "- sex           : The biological sex of the individual;\n",
    "- capital-gain  : capital gains for an individual;\n",
    "- capital-loss  : capital loss for an individual;\n",
    "- hours-per-week: The hours an individual has reported to work per week;\n",
    "- native-country: Country of origin for an individual and;\n",
    "- class         : Whether or not an individual makes more than $50,000 annually.\n",
    "\n",
    "9. Class Distribution: \n",
    "\n",
    " - Probability for the label '>50K'  : 23.93% / 24.78% (without unknowns)\n",
    " - Probability for the label '<=50K' : 76.07% / 75.22% (without unknowns)\n",
    "\n",
    "\n"
   ]
  },
  {
   "cell_type": "markdown",
   "id": "53a7c565",
   "metadata": {},
   "source": [
    "- ambos arquivos da pasta data são csv, contudo a separação em data/test e o cabeçalho do arquivo 'test' contendo '|1x3 Cross validator' sugere que pelo menos o arquivo 'test' passou por um processo de segmentação de datasets para estudos de machine learning. Testar modelos nos datasets se sobrar tempo."
   ]
  },
  {
   "cell_type": "code",
   "execution_count": 2,
   "id": "2ff02327",
   "metadata": {
    "ExecuteTime": {
     "end_time": "2022-07-28T23:25:45.198819Z",
     "start_time": "2022-07-28T23:25:45.185821Z"
    }
   },
   "outputs": [],
   "source": [
    "columns = ['age', 'workclass', 'fnlwgt','education','education-num','marital-status','occupation','relationship','race','sex','capital-gain','capital-loss','hours-per-week','native-country','class']"
   ]
  },
  {
   "cell_type": "code",
   "execution_count": 3,
   "id": "bb1c3c5f",
   "metadata": {
    "ExecuteTime": {
     "end_time": "2022-07-28T23:25:45.467579Z",
     "start_time": "2022-07-28T23:25:45.202820Z"
    }
   },
   "outputs": [],
   "source": [
    "df_adult_data=pd.read_csv('data/Adult.data',header=None,names=columns)\n",
    "df_adult_test=pd.read_csv('data/Adult.test',header=None,skiprows=1,names=columns)"
   ]
  },
  {
   "cell_type": "code",
   "execution_count": 4,
   "id": "3e87406e",
   "metadata": {
    "ExecuteTime": {
     "end_time": "2022-07-28T23:25:45.514873Z",
     "start_time": "2022-07-28T23:25:45.470580Z"
    }
   },
   "outputs": [],
   "source": [
    "df=df_adult_data.append(df_adult_test)\n",
    "df.reset_index(drop=True,inplace=True)\n"
   ]
  },
  {
   "cell_type": "markdown",
   "id": "03be2066",
   "metadata": {
    "ExecuteTime": {
     "end_time": "2022-07-26T11:41:02.948684Z",
     "start_time": "2022-07-26T11:41:02.930685Z"
    }
   },
   "source": [
    "# Attributes check"
   ]
  },
  {
   "cell_type": "code",
   "execution_count": 5,
   "id": "9b63a438",
   "metadata": {
    "ExecuteTime": {
     "end_time": "2022-07-28T23:25:45.623872Z",
     "start_time": "2022-07-28T23:25:45.524874Z"
    }
   },
   "outputs": [
    {
     "name": "stdout",
     "output_type": "stream",
     "text": [
      "<class 'pandas.core.frame.DataFrame'>\n",
      "RangeIndex: 48842 entries, 0 to 48841\n",
      "Data columns (total 15 columns):\n",
      " #   Column          Non-Null Count  Dtype \n",
      "---  ------          --------------  ----- \n",
      " 0   age             48842 non-null  object\n",
      " 1   workclass       48842 non-null  object\n",
      " 2   fnlwgt          48842 non-null  object\n",
      " 3   education       48842 non-null  object\n",
      " 4   education-num   48842 non-null  int64 \n",
      " 5   marital-status  48842 non-null  object\n",
      " 6   occupation      48842 non-null  object\n",
      " 7   relationship    48842 non-null  object\n",
      " 8   race            48842 non-null  object\n",
      " 9   sex             48842 non-null  object\n",
      " 10  capital-gain    48842 non-null  object\n",
      " 11  capital-loss    48842 non-null  int64 \n",
      " 12  hours-per-week  48842 non-null  object\n",
      " 13  native-country  48842 non-null  object\n",
      " 14  class           48842 non-null  object\n",
      "dtypes: int64(2), object(13)\n",
      "memory usage: 5.6+ MB\n"
     ]
    }
   ],
   "source": [
    "df.info() ## nenhuma linha vazia "
   ]
  },
  {
   "cell_type": "markdown",
   "id": "6182051f",
   "metadata": {},
   "source": [
    "## age\n",
    "- Age of an individual. Continuous.\n"
   ]
  },
  {
   "cell_type": "code",
   "execution_count": 6,
   "id": "cccc43cb",
   "metadata": {
    "ExecuteTime": {
     "end_time": "2022-07-28T23:25:45.655878Z",
     "start_time": "2022-07-28T23:25:45.627876Z"
    }
   },
   "outputs": [
    {
     "data": {
      "text/plain": [
       "array(['39', '50', '38', '53', '28', '37', '49', '52', '31', '42', '30',\n",
       "       '23', '32', '40', '34', '25', '43', '54', '35', '59', '56', '19',\n",
       "       '20', '45', '22', '48', '21', '24', '57', '44', '41', '29', '18',\n",
       "       '47', '46', '36', '79', '27', '67', '33', '76', '17', '55', '61',\n",
       "       '70', '64', '71', '68', '66', '51', '58', '26', '60', '90', '75',\n",
       "       '65', '77', '62', '63', '80', '72', '74', '69', '73', '81', '78',\n",
       "       '88', '82', '83', '84', '85', 'B', '86', '87', 'D', 25, 38, 28, 44,\n",
       "       18, 34, 29, 63, 24, 55, 65, 36, 26, 58, 48, 43, 20, 37, 40, 72, 45,\n",
       "       22, 23, 54, 32, 46, 56, 17, 39, 52, 21, 42, 33, 30, 47, 41, 19, 69,\n",
       "       50, 31, 59, 49, 51, 27, 57, 61, 64, 79, 73, 53, 77, 80, 62, 35, 68,\n",
       "       66, 75, 60, 67, 71, 70, 90, 81, 74, 78, 82, 83, 85, 76, 84, 89, 88,\n",
       "       87], dtype=object)"
      ]
     },
     "execution_count": 6,
     "metadata": {},
     "output_type": "execute_result"
    }
   ],
   "source": [
    "df['age'].unique() #mais de um tipo de dado: STR e int; nenhuma idade negativa."
   ]
  },
  {
   "cell_type": "code",
   "execution_count": 7,
   "id": "67b55bf8",
   "metadata": {
    "ExecuteTime": {
     "end_time": "2022-07-28T23:25:45.687878Z",
     "start_time": "2022-07-28T23:25:45.662873Z"
    }
   },
   "outputs": [],
   "source": [
    "df['age']=df['age'].astype(str) #ETL"
   ]
  },
  {
   "cell_type": "code",
   "execution_count": 8,
   "id": "9481859e",
   "metadata": {
    "ExecuteTime": {
     "end_time": "2022-07-28T23:25:45.732872Z",
     "start_time": "2022-07-28T23:25:45.692875Z"
    }
   },
   "outputs": [],
   "source": [
    "df['age_is_numeric']=df['age'].apply(lambda x : x.isnumeric() ) #ETL"
   ]
  },
  {
   "cell_type": "code",
   "execution_count": 9,
   "id": "9bad0b9a",
   "metadata": {
    "ExecuteTime": {
     "end_time": "2022-07-28T23:25:45.909881Z",
     "start_time": "2022-07-28T23:25:45.734877Z"
    }
   },
   "outputs": [
    {
     "data": {
      "text/html": [
       "<div>\n",
       "<style scoped>\n",
       "    .dataframe tbody tr th:only-of-type {\n",
       "        vertical-align: middle;\n",
       "    }\n",
       "\n",
       "    .dataframe tbody tr th {\n",
       "        vertical-align: top;\n",
       "    }\n",
       "\n",
       "    .dataframe thead th {\n",
       "        text-align: right;\n",
       "    }\n",
       "</style>\n",
       "<table border=\"1\" class=\"dataframe\">\n",
       "  <thead>\n",
       "    <tr style=\"text-align: right;\">\n",
       "      <th></th>\n",
       "      <th>age</th>\n",
       "      <th>workclass</th>\n",
       "      <th>fnlwgt</th>\n",
       "      <th>education</th>\n",
       "      <th>education-num</th>\n",
       "      <th>marital-status</th>\n",
       "      <th>occupation</th>\n",
       "      <th>relationship</th>\n",
       "      <th>race</th>\n",
       "      <th>sex</th>\n",
       "      <th>capital-gain</th>\n",
       "      <th>capital-loss</th>\n",
       "      <th>hours-per-week</th>\n",
       "      <th>native-country</th>\n",
       "      <th>class</th>\n",
       "      <th>age_is_numeric</th>\n",
       "    </tr>\n",
       "  </thead>\n",
       "  <tbody>\n",
       "    <tr>\n",
       "      <th>22197</th>\n",
       "      <td>B</td>\n",
       "      <td>Self-emp-not-inc</td>\n",
       "      <td>182771</td>\n",
       "      <td>Bachelors</td>\n",
       "      <td>13</td>\n",
       "      <td>Married-civ-spouse</td>\n",
       "      <td>Exec-managerial</td>\n",
       "      <td>Husband</td>\n",
       "      <td>Asian-Pac-Islander</td>\n",
       "      <td>Male</td>\n",
       "      <td>0</td>\n",
       "      <td>0</td>\n",
       "      <td>48</td>\n",
       "      <td>South</td>\n",
       "      <td>&gt;50K</td>\n",
       "      <td>False</td>\n",
       "    </tr>\n",
       "    <tr>\n",
       "      <th>32540</th>\n",
       "      <td>D</td>\n",
       "      <td>State-gov</td>\n",
       "      <td>252208</td>\n",
       "      <td>HS-grad</td>\n",
       "      <td>9</td>\n",
       "      <td>Separated</td>\n",
       "      <td>Adm-clerical</td>\n",
       "      <td>Own-child</td>\n",
       "      <td>White</td>\n",
       "      <td>Female</td>\n",
       "      <td>0</td>\n",
       "      <td>0</td>\n",
       "      <td>40</td>\n",
       "      <td>United-States</td>\n",
       "      <td>&lt;=50K</td>\n",
       "      <td>False</td>\n",
       "    </tr>\n",
       "  </tbody>\n",
       "</table>\n",
       "</div>"
      ],
      "text/plain": [
       "      age          workclass   fnlwgt   education  education-num  \\\n",
       "22197   B   Self-emp-not-inc   182771   Bachelors             13   \n",
       "32540   D          State-gov   252208     HS-grad              9   \n",
       "\n",
       "            marital-status        occupation relationship  \\\n",
       "22197   Married-civ-spouse   Exec-managerial      Husband   \n",
       "32540            Separated      Adm-clerical    Own-child   \n",
       "\n",
       "                      race      sex capital-gain  capital-loss hours-per-week  \\\n",
       "22197   Asian-Pac-Islander     Male            0             0             48   \n",
       "32540                White   Female            0             0             40   \n",
       "\n",
       "       native-country   class  age_is_numeric  \n",
       "22197           South    >50K           False  \n",
       "32540   United-States   <=50K           False  "
      ]
     },
     "execution_count": 9,
     "metadata": {},
     "output_type": "execute_result"
    }
   ],
   "source": [
    "df[df['age_is_numeric']==False] #Apenas duas linhas onde a iddade não é numérica"
   ]
  },
  {
   "cell_type": "code",
   "execution_count": 10,
   "id": "a6f6b3d6",
   "metadata": {
    "ExecuteTime": {
     "end_time": "2022-07-28T23:25:47.027894Z",
     "start_time": "2022-07-28T23:25:45.914880Z"
    }
   },
   "outputs": [
    {
     "name": "stderr",
     "output_type": "stream",
     "text": [
      "C:\\Anaconda\\lib\\site-packages\\seaborn\\distributions.py:2557: FutureWarning: `distplot` is a deprecated function and will be removed in a future version. Please adapt your code to use either `displot` (a figure-level function with similar flexibility) or `histplot` (an axes-level function for histograms).\n",
      "  warnings.warn(msg, FutureWarning)\n"
     ]
    },
    {
     "data": {
      "text/plain": [
       "<AxesSubplot:xlabel='age', ylabel='Density'>"
      ]
     },
     "execution_count": 10,
     "metadata": {},
     "output_type": "execute_result"
    },
    {
     "data": {
      "image/png": "[encoded data removed]",
      "text/plain": [
       "<Figure size 432x288 with 1 Axes>"
      ]
     },
     "metadata": {
      "needs_background": "light"
     },
     "output_type": "display_data"
    }
   ],
   "source": [
    "sns.distplot(df[df['age_is_numeric']==True]['age'])"
   ]
  },
  {
   "cell_type": "markdown",
   "id": "f9258a63",
   "metadata": {},
   "source": [
    "- Uma vez que a distribuição dos dados não está muito distorcida, e a quantidade de linhas do dataset a serem tratadas é pequena se comparada ao tamanho total da base, uma tratativa plausível é substituir tais valores não numéricos pela média das idades, ao invés de, por exemplo, deletar tais linhas, evitando assim a perda de dados das outras colunas."
   ]
  },
  {
   "cell_type": "code",
   "execution_count": 11,
   "id": "9be03b78",
   "metadata": {
    "ExecuteTime": {
     "end_time": "2022-07-28T23:25:47.075894Z",
     "start_time": "2022-07-28T23:25:47.030893Z"
    }
   },
   "outputs": [],
   "source": [
    "media_idades=df[df['age_is_numeric']==True]['age'].astype(float).mean() #ETL"
   ]
  },
  {
   "cell_type": "code",
   "execution_count": 12,
   "id": "19305c52",
   "metadata": {
    "ExecuteTime": {
     "end_time": "2022-07-28T23:25:47.139892Z",
     "start_time": "2022-07-28T23:25:47.078895Z"
    }
   },
   "outputs": [],
   "source": [
    "df['age']=df['age'].apply(lambda x : float(x) if x.isnumeric() else media_idades) #ETL"
   ]
  },
  {
   "cell_type": "code",
   "execution_count": 13,
   "id": "8dc3bf87",
   "metadata": {
    "ExecuteTime": {
     "end_time": "2022-07-28T23:25:49.854166Z",
     "start_time": "2022-07-28T23:25:47.142893Z"
    }
   },
   "outputs": [
    {
     "ename": "NameError",
     "evalue": "name 'np' is not defined",
     "output_type": "error",
     "traceback": [
      "\u001b[1;31m---------------------------------------------------------------------------\u001b[0m",
      "\u001b[1;31mNameError\u001b[0m                                 Traceback (most recent call last)",
      "\u001b[1;32m<ipython-input-13-19ea99897f79>\u001b[0m in \u001b[0;36m<module>\u001b[1;34m\u001b[0m\n\u001b[1;32m----> 1\u001b[1;33m \u001b[0mnp\u001b[0m\u001b[1;33m.\u001b[0m\u001b[0msort\u001b[0m\u001b[1;33m(\u001b[0m\u001b[0mdf\u001b[0m\u001b[1;33m[\u001b[0m\u001b[1;34m'age'\u001b[0m\u001b[1;33m]\u001b[0m\u001b[1;33m.\u001b[0m\u001b[0munique\u001b[0m\u001b[1;33m(\u001b[0m\u001b[1;33m)\u001b[0m\u001b[1;33m)\u001b[0m\u001b[1;33m\u001b[0m\u001b[1;33m\u001b[0m\u001b[0m\n\u001b[0m",
      "\u001b[1;31mNameError\u001b[0m: name 'np' is not defined"
     ]
    }
   ],
   "source": [
    "np.sort(df['age'].unique())"
   ]
  },
  {
   "cell_type": "code",
   "execution_count": null,
   "id": "e0c40ae8",
   "metadata": {
    "ExecuteTime": {
     "end_time": "2022-07-28T23:25:49.878169Z",
     "start_time": "2022-07-28T23:25:37.891Z"
    }
   },
   "outputs": [],
   "source": [
    "df.drop('age_is_numeric', axis=1, inplace=True)#ETL"
   ]
  },
  {
   "cell_type": "markdown",
   "id": "23aa00d7",
   "metadata": {},
   "source": [
    "## workclass\n",
    "- A general term to represent the employment status of an individual;\n",
    "- Private, Self-emp-not-inc, Self-emp-inc, Federal-gov, Local-gov, State-gov, Without-pay, Never-worked."
   ]
  },
  {
   "cell_type": "code",
   "execution_count": null,
   "id": "dd721a96",
   "metadata": {
    "ExecuteTime": {
     "end_time": "2022-07-28T23:25:49.881167Z",
     "start_time": "2022-07-28T23:25:37.894Z"
    }
   },
   "outputs": [],
   "source": [
    "df['workclass'].unique() # caracter \"?\", espaços em branco."
   ]
  },
  {
   "cell_type": "code",
   "execution_count": null,
   "id": "7986ab75",
   "metadata": {
    "ExecuteTime": {
     "end_time": "2022-07-28T23:25:49.883167Z",
     "start_time": "2022-07-28T23:25:37.897Z"
    }
   },
   "outputs": [],
   "source": [
    "df['workclass']=df['workclass'].apply(lambda x: x.replace(' ',''))  #ETL"
   ]
  },
  {
   "cell_type": "code",
   "execution_count": null,
   "id": "fbf19c7e",
   "metadata": {
    "ExecuteTime": {
     "end_time": "2022-07-28T23:25:49.886165Z",
     "start_time": "2022-07-28T23:25:37.902Z"
    }
   },
   "outputs": [],
   "source": [
    "df[df['workclass']=='?'] # 2799 linhas sem dado. Substituir por None. "
   ]
  },
  {
   "cell_type": "code",
   "execution_count": null,
   "id": "3c9d0365",
   "metadata": {
    "ExecuteTime": {
     "end_time": "2022-07-28T23:25:49.889170Z",
     "start_time": "2022-07-28T23:25:37.907Z"
    }
   },
   "outputs": [],
   "source": [
    "df['workclass']=df['workclass'].apply(lambda x: None if x=='?' else x)  #ETL"
   ]
  },
  {
   "cell_type": "markdown",
   "id": "7842335c",
   "metadata": {},
   "source": [
    "## fnlwgt        \n",
    "- Final weight. In other words, this is the number of people the census believes the entry represents;\n",
    "- Continous"
   ]
  },
  {
   "cell_type": "code",
   "execution_count": null,
   "id": "cca34b63",
   "metadata": {
    "ExecuteTime": {
     "end_time": "2022-07-28T23:25:49.892172Z",
     "start_time": "2022-07-28T23:25:37.911Z"
    }
   },
   "outputs": [],
   "source": [
    "df['fnlwgt'].unique()"
   ]
  },
  {
   "cell_type": "code",
   "execution_count": null,
   "id": "97683294",
   "metadata": {
    "ExecuteTime": {
     "end_time": "2022-07-28T23:25:49.894165Z",
     "start_time": "2022-07-28T23:25:37.920Z"
    }
   },
   "outputs": [],
   "source": [
    "df['fnlwgt']=df['fnlwgt'].astype(str)#ETL"
   ]
  },
  {
   "cell_type": "code",
   "execution_count": null,
   "id": "16637a43",
   "metadata": {
    "ExecuteTime": {
     "end_time": "2022-07-28T23:25:49.897171Z",
     "start_time": "2022-07-28T23:25:37.928Z"
    }
   },
   "outputs": [],
   "source": [
    "df['fnlwgt']=df['fnlwgt'].apply(lambda x: x.replace(' ','')) #ETL"
   ]
  },
  {
   "cell_type": "code",
   "execution_count": null,
   "id": "83922460",
   "metadata": {
    "ExecuteTime": {
     "end_time": "2022-07-28T23:25:49.900166Z",
     "start_time": "2022-07-28T23:25:37.940Z"
    }
   },
   "outputs": [],
   "source": [
    "df['fnlwgt_is_numeric']=df['fnlwgt'].apply(lambda x : x.isnumeric() ) #ETL"
   ]
  },
  {
   "cell_type": "code",
   "execution_count": null,
   "id": "a4802131",
   "metadata": {
    "ExecuteTime": {
     "end_time": "2022-07-28T23:25:49.902168Z",
     "start_time": "2022-07-28T23:25:37.955Z"
    }
   },
   "outputs": [],
   "source": [
    "df[df['fnlwgt_is_numeric']==False] #"
   ]
  },
  {
   "cell_type": "code",
   "execution_count": null,
   "id": "6a8f709b",
   "metadata": {
    "ExecuteTime": {
     "end_time": "2022-07-28T23:25:49.904165Z",
     "start_time": "2022-07-28T23:25:37.984Z"
    }
   },
   "outputs": [],
   "source": [
    "media_fnlwgt=df[df['fnlwgt_is_numeric']==True]['fnlwgt'].astype(float).mean() #ETL\n",
    "df['fnlwgt']=df['fnlwgt'].apply(lambda x : float(x) if x.isnumeric() else media_fnlwgt) #ETL\n",
    "df.drop('fnlwgt_is_numeric', axis=1, inplace=True)#ETL"
   ]
  },
  {
   "cell_type": "markdown",
   "id": "0a1e0af4",
   "metadata": {},
   "source": [
    "## education     \n",
    "- The highest level of education achieved by an individual;\n",
    "- Bachelors, Some-college, 11th, HS-grad, Prof-school, Assoc-acdm, Assoc-voc, 9th, 7th-8th, 12th, Masters, 1st-4th, 10th, Doctorate, 5th-6th, Preschool."
   ]
  },
  {
   "cell_type": "code",
   "execution_count": null,
   "id": "c8d9ba6b",
   "metadata": {
    "ExecuteTime": {
     "end_time": "2022-07-28T23:25:49.907169Z",
     "start_time": "2022-07-28T23:25:38.009Z"
    }
   },
   "outputs": [],
   "source": [
    "df['education'].unique()"
   ]
  },
  {
   "cell_type": "code",
   "execution_count": null,
   "id": "859d1fd7",
   "metadata": {
    "ExecuteTime": {
     "end_time": "2022-07-28T23:25:49.909178Z",
     "start_time": "2022-07-28T23:25:38.028Z"
    }
   },
   "outputs": [],
   "source": [
    "df['education']=df['education'].apply(lambda x: x.replace(' ',''))#ETL"
   ]
  },
  {
   "cell_type": "markdown",
   "id": "7e0741b3",
   "metadata": {},
   "source": [
    "## education-num \n",
    "- The highest level of education achieved in numerical form;\n",
    "- Continuos"
   ]
  },
  {
   "cell_type": "code",
   "execution_count": null,
   "id": "e763f9ec",
   "metadata": {
    "ExecuteTime": {
     "end_time": "2022-07-28T23:25:49.912168Z",
     "start_time": "2022-07-28T23:25:38.049Z"
    }
   },
   "outputs": [],
   "source": [
    "np.sort(df['education-num'].unique())"
   ]
  },
  {
   "cell_type": "code",
   "execution_count": null,
   "id": "01d5d4c4",
   "metadata": {
    "ExecuteTime": {
     "end_time": "2022-07-28T23:25:49.914169Z",
     "start_time": "2022-07-28T23:25:38.067Z"
    }
   },
   "outputs": [],
   "source": [
    "df['education-num'].describe() #sem necessidade de tratamento: sem Nulos e datatype uniforme"
   ]
  },
  {
   "cell_type": "markdown",
   "id": "af145a5b",
   "metadata": {},
   "source": [
    "## marital-status\n",
    "- Marital status of an individual. Married­civ­spouse corresponds to a civilian spouse while Married­AF­spouse is a spouse in the Armed Forces;\n",
    "- Married-civ-spouse, Divorced, Never-married, Separated, Widowed, Married-spouse-absent, Married-AF-spouse."
   ]
  },
  {
   "cell_type": "code",
   "execution_count": null,
   "id": "2e07d721",
   "metadata": {
    "ExecuteTime": {
     "end_time": "2022-07-28T23:25:49.917167Z",
     "start_time": "2022-07-28T23:25:38.081Z"
    }
   },
   "outputs": [],
   "source": [
    "df['marital-status'].unique()"
   ]
  },
  {
   "cell_type": "code",
   "execution_count": null,
   "id": "3375613d",
   "metadata": {
    "ExecuteTime": {
     "end_time": "2022-07-28T23:25:49.920168Z",
     "start_time": "2022-07-28T23:25:38.104Z"
    }
   },
   "outputs": [],
   "source": [
    "df['marital-status']=df['marital-status'].apply(lambda x: x.replace(' ','')) #ETL"
   ]
  },
  {
   "cell_type": "markdown",
   "id": "395807f3",
   "metadata": {
    "ExecuteTime": {
     "end_time": "2022-07-27T01:39:44.770993Z",
     "start_time": "2022-07-27T01:39:44.754886Z"
    }
   },
   "source": [
    "## occupation :\n",
    "- The general type of occupation of an individual;\n",
    "- Tech-support, Craft-repair, Other-service, Sales, Exec-managerial, Prof-specialty, Handlers-cleaners, Machine-op-inspct, Adm-clerical, Farming-fishing, Transport-moving, Priv-house-serv, Protective-serv, Armed-Forces."
   ]
  },
  {
   "cell_type": "code",
   "execution_count": null,
   "id": "d147294b",
   "metadata": {
    "ExecuteTime": {
     "end_time": "2022-07-28T23:25:49.923169Z",
     "start_time": "2022-07-28T23:25:38.114Z"
    }
   },
   "outputs": [],
   "source": [
    "df['occupation'].unique()"
   ]
  },
  {
   "cell_type": "code",
   "execution_count": null,
   "id": "4b4eaa3a",
   "metadata": {
    "ExecuteTime": {
     "end_time": "2022-07-28T23:25:49.926170Z",
     "start_time": "2022-07-28T23:25:38.119Z"
    }
   },
   "outputs": [],
   "source": [
    "df['occupation']=df['occupation'].apply(lambda x: x.replace(' ',''))#ETL\n",
    "df['occupation']=df['occupation'].apply(lambda x: None if x=='?' else x) #ETL"
   ]
  },
  {
   "cell_type": "markdown",
   "id": "4324f239",
   "metadata": {},
   "source": [
    "## relationship \n",
    "- Represents what this individual is relative to others. For example an individual could be a Husband. Each entry only has one relationship attribute and is somewhat *redundant with marital status. We might not make use of this attribute at all;*\n",
    "- Wife, Own-child, Husband, Not-in-family, Other-relative, Unmarried."
   ]
  },
  {
   "cell_type": "code",
   "execution_count": null,
   "id": "c9c65a37",
   "metadata": {
    "ExecuteTime": {
     "end_time": "2022-07-28T23:25:49.928166Z",
     "start_time": "2022-07-28T23:25:38.125Z"
    }
   },
   "outputs": [],
   "source": [
    "df['relationship'].unique()"
   ]
  },
  {
   "cell_type": "code",
   "execution_count": null,
   "id": "a12f992f",
   "metadata": {
    "ExecuteTime": {
     "end_time": "2022-07-28T23:25:49.931166Z",
     "start_time": "2022-07-28T23:25:38.130Z"
    }
   },
   "outputs": [],
   "source": [
    "df['relationship']=df['relationship'].apply(lambda x: x.replace(' ',''))#ETL"
   ]
  },
  {
   "cell_type": "markdown",
   "id": "20286f8b",
   "metadata": {},
   "source": [
    "## race \n",
    "- Descriptions of an individual’s race;\n",
    "- White, Asian-Pac-Islander, Amer-Indian-Eskimo, Other, Black.\n"
   ]
  },
  {
   "cell_type": "code",
   "execution_count": null,
   "id": "ca57b681",
   "metadata": {
    "ExecuteTime": {
     "end_time": "2022-07-28T23:25:49.933168Z",
     "start_time": "2022-07-28T23:25:38.136Z"
    }
   },
   "outputs": [],
   "source": [
    "df['relationship'].unique()"
   ]
  },
  {
   "cell_type": "markdown",
   "id": "3f053592",
   "metadata": {
    "ExecuteTime": {
     "end_time": "2022-07-27T01:56:04.302607Z",
     "start_time": "2022-07-27T01:56:04.279715Z"
    }
   },
   "source": [
    "## sex\n",
    "- The biological sex of the individual;\n",
    "- Female, Male."
   ]
  },
  {
   "cell_type": "code",
   "execution_count": null,
   "id": "83b3038b",
   "metadata": {
    "ExecuteTime": {
     "end_time": "2022-07-28T23:25:49.936174Z",
     "start_time": "2022-07-28T23:25:38.141Z"
    }
   },
   "outputs": [],
   "source": [
    "df['sex'].unique()"
   ]
  },
  {
   "cell_type": "code",
   "execution_count": null,
   "id": "7074de60",
   "metadata": {
    "ExecuteTime": {
     "end_time": "2022-07-28T23:25:49.938169Z",
     "start_time": "2022-07-28T23:25:38.147Z"
    }
   },
   "outputs": [],
   "source": [
    "df['sex']=df['sex'].apply(lambda x: x.replace(' ',''))#ETL"
   ]
  },
  {
   "cell_type": "markdown",
   "id": "75b3875d",
   "metadata": {},
   "source": [
    "## capital-gain : \n",
    "- capital gains for an individual;\n",
    "- continuous."
   ]
  },
  {
   "cell_type": "code",
   "execution_count": null,
   "id": "0d0748ab",
   "metadata": {
    "ExecuteTime": {
     "end_time": "2022-07-28T23:25:49.941172Z",
     "start_time": "2022-07-28T23:25:38.154Z"
    }
   },
   "outputs": [],
   "source": [
    "df['capital-gain'].unique()"
   ]
  },
  {
   "cell_type": "code",
   "execution_count": null,
   "id": "f56fba19",
   "metadata": {
    "ExecuteTime": {
     "end_time": "2022-07-28T23:25:49.944167Z",
     "start_time": "2022-07-28T23:25:38.160Z"
    }
   },
   "outputs": [],
   "source": [
    "df['capital-gain']=df['capital-gain'].astype(str)#ETL\n",
    "df['capital-gain']=df['capital-gain'].apply(lambda x: x.replace(' ','')) #ETL\n",
    "df['capital-gain_is_numeric']=df['capital-gain'].apply(lambda x : x.isnumeric() ) #ETL\n",
    "# df[df['capital-gain_is_numeric']==False]\n"
   ]
  },
  {
   "cell_type": "code",
   "execution_count": null,
   "id": "f902594a",
   "metadata": {
    "ExecuteTime": {
     "end_time": "2022-07-28T23:25:49.947167Z",
     "start_time": "2022-07-28T23:25:38.166Z"
    }
   },
   "outputs": [],
   "source": [
    "media_fnlwgt=df[df['capital-gain_is_numeric']==True]['capital-gain'].astype(float).mean() #ETL\n",
    "df['capital-gain']=df['capital-gain'].apply(lambda x : float(x) if x.isnumeric() else media_fnlwgt) #ETL\n",
    "df.drop('capital-gain_is_numeric', axis=1, inplace=True)#ETL"
   ]
  },
  {
   "cell_type": "markdown",
   "id": "b0d6a811",
   "metadata": {
    "ExecuteTime": {
     "end_time": "2022-07-27T02:07:06.754659Z",
     "start_time": "2022-07-27T02:07:06.668659Z"
    }
   },
   "source": [
    "##  capital-loss \n",
    "- capital loss for an individual;\n",
    "- continuous."
   ]
  },
  {
   "cell_type": "code",
   "execution_count": null,
   "id": "44305baa",
   "metadata": {
    "ExecuteTime": {
     "end_time": "2022-07-28T23:25:49.949169Z",
     "start_time": "2022-07-28T23:25:38.171Z"
    }
   },
   "outputs": [],
   "source": [
    "np.sort(df['capital-loss'].unique())"
   ]
  },
  {
   "cell_type": "markdown",
   "id": "cd0f53fa",
   "metadata": {},
   "source": [
    "## hours-per-week\n",
    "- The hours an individual has reported to work per week;\n",
    "- continuous."
   ]
  },
  {
   "cell_type": "code",
   "execution_count": null,
   "id": "3b18df49",
   "metadata": {
    "ExecuteTime": {
     "end_time": "2022-07-28T23:25:49.952165Z",
     "start_time": "2022-07-28T23:25:38.177Z"
    }
   },
   "outputs": [],
   "source": [
    "df['hours-per-week'].unique()"
   ]
  },
  {
   "cell_type": "code",
   "execution_count": null,
   "id": "87ded805",
   "metadata": {
    "ExecuteTime": {
     "end_time": "2022-07-28T23:25:49.954168Z",
     "start_time": "2022-07-28T23:25:38.185Z"
    }
   },
   "outputs": [],
   "source": [
    "df['hours-per-week']=df['hours-per-week'].astype(str)#ETL\n",
    "df['hours-per-week']=df['hours-per-week'].apply(lambda x: x.replace(' ','')) #ETL\n",
    "df['hours-per-week_is_numeric']=df['hours-per-week'].apply(lambda x : x.isnumeric() ) #ETL\n",
    "# df[df['capital-gain_is_numeric']==False]\n",
    "media_fnlwgt=df[df['hours-per-week_is_numeric']==True]['hours-per-week'].astype(float).mean() #ETL\n",
    "df['hours-per-week']=df['hours-per-week'].apply(lambda x : float(x) if x.isnumeric() else media_fnlwgt) #ETL\n",
    "df.drop('hours-per-week_is_numeric', axis=1, inplace=True)#ETL"
   ]
  },
  {
   "cell_type": "markdown",
   "id": "9eb0a14d",
   "metadata": {},
   "source": [
    "## native-country: \n",
    "- Country of origin for an individual and;\n",
    "- United-States, Cambodia, England, Puerto-Rico, Canada, Germany, Outlying-US(Guam-USVI-etc), India, Japan, Greece, South, China, Cuba, Iran, Honduras, Philippines, Italy, Poland, Jamaica, Vietnam, Mexico, Portugal, Ireland, France, Dominican-Republic, Laos, Ecuador, Taiwan, Haiti, Columbia, Hungary, Guatemala, Nicaragua, Scotland, Thailand, Yugoslavia, El-Salvador, Trinadad&Tobago, Peru, Hong, Holand-Netherlands. "
   ]
  },
  {
   "cell_type": "code",
   "execution_count": null,
   "id": "6c9072a4",
   "metadata": {
    "ExecuteTime": {
     "end_time": "2022-07-28T23:25:49.956170Z",
     "start_time": "2022-07-28T23:25:38.192Z"
    }
   },
   "outputs": [],
   "source": [
    "np.sort(list(df['native-country'].unique()))"
   ]
  },
  {
   "cell_type": "code",
   "execution_count": null,
   "id": "67770888",
   "metadata": {
    "ExecuteTime": {
     "end_time": "2022-07-28T23:25:49.958169Z",
     "start_time": "2022-07-28T23:25:38.199Z"
    }
   },
   "outputs": [],
   "source": [
    "df['native-country']=df['native-country'].astype(str) #ETL\n",
    "df['native-country']=df['native-country'].apply(lambda x: x.replace(' ','')) #ETL\n",
    "df['native-country']=df['native-country'].apply(lambda x: None if x=='?' else x) #ETL"
   ]
  },
  {
   "cell_type": "markdown",
   "id": "73cc4c34",
   "metadata": {},
   "source": [
    "## class : \n",
    "- Whether or not an individual makes more than $50,000 annually.\n",
    "->50K, <=50K"
   ]
  },
  {
   "cell_type": "code",
   "execution_count": null,
   "id": "0adf3f7f",
   "metadata": {
    "ExecuteTime": {
     "end_time": "2022-07-28T23:25:49.961169Z",
     "start_time": "2022-07-28T23:25:38.206Z"
    }
   },
   "outputs": [],
   "source": [
    "df['class'].unique()"
   ]
  },
  {
   "cell_type": "code",
   "execution_count": null,
   "id": "bee0bba6",
   "metadata": {
    "ExecuteTime": {
     "end_time": "2022-07-28T23:25:49.963171Z",
     "start_time": "2022-07-28T23:25:38.216Z"
    }
   },
   "outputs": [],
   "source": [
    "df['class']=df['class'].apply(lambda x: x.replace(' ','').replace('.','')) "
   ]
  },
  {
   "cell_type": "markdown",
   "id": "f9eaa866",
   "metadata": {},
   "source": [
    "# Inserção em banco de dados.\n",
    "- Feito nos arquivos .py (descrito no Readme)"
   ]
  },
  {
   "cell_type": "markdown",
   "id": "99d0c9e2",
   "metadata": {},
   "source": [
    "# EXPLORE"
   ]
  },
  {
   "cell_type": "code",
   "execution_count": null,
   "id": "ca5e770a",
   "metadata": {
    "ExecuteTime": {
     "end_time": "2022-07-28T23:25:49.966313Z",
     "start_time": "2022-07-28T23:25:38.221Z"
    },
    "scrolled": false
   },
   "outputs": [],
   "source": [
    "sns.pairplot(df)"
   ]
  },
  {
   "cell_type": "markdown",
   "id": "823a39ba",
   "metadata": {},
   "source": [
    " # TODO\n",
    " - Sem correlação aparente entre variáveis numéricas desnormalizadas\n",
    " - Uma vez que a variável alvo é 'class', avaliar distribuição de outras variáveis categoricas com a variável alvo\n",
    " - avaliar variaveis numericas e variavel categorica \n",
    " \n",
    " - descrever modelod e machine learning\n",
    " \n",
    " - descrever metodo de pandas.to_sql()\n",
    " - fazer metodo com tabela auxiliar e raw_querry do sqlalchemy"
   ]
  },
  {
   "cell_type": "markdown",
   "id": "c27e8046",
   "metadata": {},
   "source": [
    "# Machine Learninng Model"
   ]
  },
  {
   "cell_type": "code",
   "execution_count": null,
   "id": "53575a49",
   "metadata": {
    "ExecuteTime": {
     "end_time": "2022-07-28T23:25:49.969170Z",
     "start_time": "2022-07-28T23:25:38.228Z"
    }
   },
   "outputs": [],
   "source": [
    "data = df.iloc[:,:-1]\n",
    "\n",
    "X= data.iloc[:,:-1]\n",
    "X= pd.get_dummies(X)\n",
    "Y=data['class']"
   ]
  },
  {
   "cell_type": "code",
   "execution_count": null,
   "id": "82864650",
   "metadata": {
    "ExecuteTime": {
     "end_time": "2022-07-28T23:25:49.971169Z",
     "start_time": "2022-07-28T23:25:38.233Z"
    }
   },
   "outputs": [],
   "source": [
    "from sklearn.model_selection import train_test_split\n",
    "\n",
    "x_train,x_test,y_train,y_test=train_test_split(X,Y,train_size=0.75)"
   ]
  },
  {
   "cell_type": "markdown",
   "id": "638f55db",
   "metadata": {},
   "source": [
    "## Logistic Regression"
   ]
  },
  {
   "cell_type": "code",
   "execution_count": null,
   "id": "76a7c6ed",
   "metadata": {
    "ExecuteTime": {
     "end_time": "2022-07-28T23:25:49.973169Z",
     "start_time": "2022-07-28T23:25:38.238Z"
    }
   },
   "outputs": [],
   "source": [
    "from sklearn.linear_model import LogisticRegression"
   ]
  },
  {
   "cell_type": "code",
   "execution_count": null,
   "id": "5aabf4a9",
   "metadata": {
    "ExecuteTime": {
     "end_time": "2022-07-28T23:25:49.975166Z",
     "start_time": "2022-07-28T23:25:38.243Z"
    }
   },
   "outputs": [],
   "source": [
    "logisticRegr = LogisticRegression()\n",
    "logisticRegr.fit(x_train, y_train)"
   ]
  },
  {
   "cell_type": "code",
   "execution_count": null,
   "id": "96d265c7",
   "metadata": {
    "ExecuteTime": {
     "end_time": "2022-07-28T23:25:49.977167Z",
     "start_time": "2022-07-28T23:25:38.248Z"
    }
   },
   "outputs": [],
   "source": [
    "predictions = logisticRegr.predict(x_test)"
   ]
  },
  {
   "cell_type": "code",
   "execution_count": null,
   "id": "c4f51f6f",
   "metadata": {
    "ExecuteTime": {
     "end_time": "2022-07-28T23:25:49.978168Z",
     "start_time": "2022-07-28T23:25:38.253Z"
    }
   },
   "outputs": [],
   "source": [
    "# Use score method to get accuracy of model\n",
    "score = logisticRegr.score(x_test, y_test)\n",
    "print(score)"
   ]
  },
  {
   "cell_type": "code",
   "execution_count": null,
   "id": "ce3420df",
   "metadata": {
    "ExecuteTime": {
     "end_time": "2022-07-28T23:25:49.981196Z",
     "start_time": "2022-07-28T23:25:38.258Z"
    }
   },
   "outputs": [],
   "source": [
    "from sklearn import metrics"
   ]
  },
  {
   "cell_type": "code",
   "execution_count": null,
   "id": "09f24278",
   "metadata": {
    "ExecuteTime": {
     "end_time": "2022-07-28T23:25:49.984168Z",
     "start_time": "2022-07-28T23:25:38.263Z"
    }
   },
   "outputs": [],
   "source": [
    "cm = metrics.confusion_matrix(y_test, predictions)\n",
    "print(cm)"
   ]
  },
  {
   "cell_type": "markdown",
   "id": "7798ceb7",
   "metadata": {
    "ExecuteTime": {
     "end_time": "2022-07-28T03:14:10.068895Z",
     "start_time": "2022-07-28T03:14:10.066922Z"
    }
   },
   "source": [
    "## Naive Bayes"
   ]
  },
  {
   "cell_type": "code",
   "execution_count": null,
   "id": "e8d41337",
   "metadata": {
    "ExecuteTime": {
     "end_time": "2022-07-28T23:25:49.986167Z",
     "start_time": "2022-07-28T23:25:38.267Z"
    }
   },
   "outputs": [],
   "source": [
    "from sklearn.naive_bayes import GaussianNB"
   ]
  },
  {
   "cell_type": "code",
   "execution_count": null,
   "id": "c01b018e",
   "metadata": {
    "ExecuteTime": {
     "end_time": "2022-07-28T23:25:49.987168Z",
     "start_time": "2022-07-28T23:25:38.270Z"
    }
   },
   "outputs": [],
   "source": [
    "gaussian = GaussianNB()"
   ]
  },
  {
   "cell_type": "code",
   "execution_count": null,
   "id": "63224fad",
   "metadata": {
    "ExecuteTime": {
     "end_time": "2022-07-28T23:25:49.989172Z",
     "start_time": "2022-07-28T23:25:38.275Z"
    }
   },
   "outputs": [],
   "source": [
    "gaussian.fit(x_train, y_train)"
   ]
  },
  {
   "cell_type": "code",
   "execution_count": null,
   "id": "a7570e2c",
   "metadata": {
    "ExecuteTime": {
     "end_time": "2022-07-28T23:25:49.991167Z",
     "start_time": "2022-07-28T23:25:38.281Z"
    }
   },
   "outputs": [],
   "source": [
    "predictions = gaussian.predict(x_test)"
   ]
  },
  {
   "cell_type": "code",
   "execution_count": null,
   "id": "1b19a936",
   "metadata": {
    "ExecuteTime": {
     "end_time": "2022-07-28T23:25:49.993166Z",
     "start_time": "2022-07-28T23:25:38.287Z"
    }
   },
   "outputs": [],
   "source": [
    "score = gaussian.score(x_test, y_test)\n",
    "print(score)"
   ]
  },
  {
   "cell_type": "code",
   "execution_count": null,
   "id": "fafd0596",
   "metadata": {
    "ExecuteTime": {
     "end_time": "2022-07-28T23:25:49.995167Z",
     "start_time": "2022-07-28T23:25:38.292Z"
    }
   },
   "outputs": [],
   "source": [
    "cm = metrics.confusion_matrix(y_test, predictions)\n",
    "print(cm)"
   ]
  },
  {
   "cell_type": "code",
   "execution_count": null,
   "id": "77510232",
   "metadata": {
    "ExecuteTime": {
     "end_time": "2022-07-28T23:25:49.997169Z",
     "start_time": "2022-07-28T23:25:38.298Z"
    }
   },
   "outputs": [],
   "source": [
    "pip freeze"
   ]
  }
 ],
 "metadata": {
  "kernelspec": {
   "display_name": "Python 3",
   "language": "python",
   "name": "python3"
  },
  "language_info": {
   "codemirror_mode": {
    "name": "ipython",
    "version": 3
   },
   "file_extension": ".py",
   "mimetype": "text/x-python",
   "name": "python",
   "nbconvert_exporter": "python",
   "pygments_lexer": "ipython3",
   "version": "3.8.8"
  },
  "toc": {
   "base_numbering": 1,
   "nav_menu": {},
   "number_sections": true,
   "sideBar": true,
   "skip_h1_title": false,
   "title_cell": "Table of Contents",
   "title_sidebar": "Contents",
   "toc_cell": false,
   "toc_position": {},
   "toc_section_display": true,
   "toc_window_display": false
  },
  "varInspector": {
   "cols": {
    "lenName": 16,
    "lenType": 16,
    "lenVar": 40
   },
   "kernels_config": {
    "python": {
     "delete_cmd_postfix": "",
     "delete_cmd_prefix": "del ",
     "library": "var_list.py",
     "varRefreshCmd": "print(var_dic_list())"
    },
    "r": {
     "delete_cmd_postfix": ") ",
     "delete_cmd_prefix": "rm(",
     "library": "var_list.r",
     "varRefreshCmd": "cat(var_dic_list()) "
    }
   },
   "types_to_exclude": [
    "module",
    "function",
    "builtin_function_or_method",
    "instance",
    "_Feature"
   ],
   "window_display": false
  }
 },
 "nbformat": 4,
 "nbformat_minor": 5
}

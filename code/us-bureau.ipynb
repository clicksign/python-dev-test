{
 "cells": [
  {
   "cell_type": "code",
   "execution_count": 1,
   "id": "28b1b788",
   "metadata": {
    "ExecuteTime": {
     "end_time": "2022-06-16T16:32:02.399144Z",
     "start_time": "2022-06-16T16:32:01.978511Z"
    }
   },
   "outputs": [],
   "source": [
    "import pandas as pd\n",
    "import sqlite3\n",
    "import os"
   ]
  },
  {
   "cell_type": "code",
   "execution_count": 2,
   "id": "57898eba",
   "metadata": {
    "ExecuteTime": {
     "end_time": "2022-06-16T16:32:02.405160Z",
     "start_time": "2022-06-16T16:32:02.400774Z"
    }
   },
   "outputs": [],
   "source": [
    "githubPath = 'https://raw.githubusercontent.com/clicksign/python-dev-test/master/data/Adult.test'\n",
    "db_name = '/home/god/git/us_census_bureau.db'\n",
    "qtd_linhas_por_carga = 1630"
   ]
  },
  {
   "cell_type": "code",
   "execution_count": 3,
   "id": "f748b8eb",
   "metadata": {
    "ExecuteTime": {
     "end_time": "2022-06-16T16:32:02.467067Z",
     "start_time": "2022-06-16T16:32:02.408058Z"
    }
   },
   "outputs": [
    {
     "name": "stdout",
     "output_type": "stream",
     "text": [
      "Execution failed on sql 'select max(index_col) qtd from df': no such table: df\n",
      "rm -rf /home/raft/git/us_census_bureau.db\n",
      "touch /home/raft/git/us_census_bureau.db\n"
     ]
    }
   ],
   "source": [
    "try:\n",
    "    conn = sqlite3.connect(db_name)\n",
    "    qtd = pd.read_sql_query(\"select max(index_col) qtd from df\", conn)\n",
    "except Exception as e:\n",
    "    print(e)\n",
    "    cmd = 'rm -rf {}'.format(db_name)\n",
    "    print(cmd)\n",
    "    os.system(cmd)\n",
    "    cmd = 'touch {}'.format(db_name)\n",
    "    print(cmd)\n",
    "    os.system(cmd)\n",
    "    conn = sqlite3.connect(db_name)\n",
    "    qtd = pd.DataFrame({'qtd': [0]})"
   ]
  },
  {
   "cell_type": "code",
   "execution_count": 4,
   "id": "81e572f2",
   "metadata": {
    "ExecuteTime": {
     "end_time": "2022-06-16T16:32:02.938517Z",
     "start_time": "2022-06-16T16:32:02.470327Z"
    }
   },
   "outputs": [],
   "source": [
    "df = pd.read_csv(githubPath,\n",
    "                 names=[\n",
    "                     'age', 'workclass', 'fnlwgt', 'education',\n",
    "                     'education-num', 'marital-status', 'occupation',\n",
    "                     'relationship', 'race', 'sex', 'capital-gain',\n",
    "                     'capital-loss', 'hours-per-week', 'native-country',\n",
    "                     'class'\n",
    "                 ])"
   ]
  },
  {
   "cell_type": "code",
   "execution_count": 5,
   "id": "f2ab2541",
   "metadata": {
    "ExecuteTime": {
     "end_time": "2022-06-16T16:32:02.966752Z",
     "start_time": "2022-06-16T16:32:02.940571Z"
    }
   },
   "outputs": [
    {
     "data": {
      "text/html": [
       "<div>\n",
       "<style scoped>\n",
       "    .dataframe tbody tr th:only-of-type {\n",
       "        vertical-align: middle;\n",
       "    }\n",
       "\n",
       "    .dataframe tbody tr th {\n",
       "        vertical-align: top;\n",
       "    }\n",
       "\n",
       "    .dataframe thead th {\n",
       "        text-align: right;\n",
       "    }\n",
       "</style>\n",
       "<table border=\"1\" class=\"dataframe\">\n",
       "  <thead>\n",
       "    <tr style=\"text-align: right;\">\n",
       "      <th></th>\n",
       "      <th>age</th>\n",
       "      <th>workclass</th>\n",
       "      <th>fnlwgt</th>\n",
       "      <th>education</th>\n",
       "      <th>education-num</th>\n",
       "      <th>marital-status</th>\n",
       "      <th>occupation</th>\n",
       "      <th>relationship</th>\n",
       "      <th>race</th>\n",
       "      <th>sex</th>\n",
       "      <th>capital-gain</th>\n",
       "      <th>capital-loss</th>\n",
       "      <th>hours-per-week</th>\n",
       "      <th>native-country</th>\n",
       "      <th>class</th>\n",
       "    </tr>\n",
       "  </thead>\n",
       "  <tbody>\n",
       "    <tr>\n",
       "      <th>3480</th>\n",
       "      <td>64</td>\n",
       "      <td>?</td>\n",
       "      <td>226878.0</td>\n",
       "      <td>Masters</td>\n",
       "      <td>14.0</td>\n",
       "      <td>Married-civ-spouse</td>\n",
       "      <td>?</td>\n",
       "      <td>Wife</td>\n",
       "      <td>Black</td>\n",
       "      <td>Female</td>\n",
       "      <td>9386.0</td>\n",
       "      <td>0.0</td>\n",
       "      <td>50</td>\n",
       "      <td>Jamaica</td>\n",
       "      <td>&gt;50K.</td>\n",
       "    </tr>\n",
       "  </tbody>\n",
       "</table>\n",
       "</div>"
      ],
      "text/plain": [
       "     age workclass    fnlwgt education  education-num       marital-status  \\\n",
       "3480  64         ?  226878.0   Masters           14.0   Married-civ-spouse   \n",
       "\n",
       "     occupation relationship    race      sex  capital-gain  capital-loss  \\\n",
       "3480          ?         Wife   Black   Female        9386.0           0.0   \n",
       "\n",
       "     hours-per-week native-country   class  \n",
       "3480             50        Jamaica   >50K.  "
      ]
     },
     "execution_count": 5,
     "metadata": {},
     "output_type": "execute_result"
    }
   ],
   "source": [
    "df[df.index == 3480]"
   ]
  },
  {
   "cell_type": "code",
   "execution_count": 6,
   "id": "21e0a979",
   "metadata": {
    "ExecuteTime": {
     "end_time": "2022-06-16T16:32:02.973845Z",
     "start_time": "2022-06-16T16:32:02.968998Z"
    }
   },
   "outputs": [],
   "source": [
    "df['index_col'] = df.index"
   ]
  },
  {
   "cell_type": "code",
   "execution_count": 7,
   "id": "3895e989",
   "metadata": {
    "ExecuteTime": {
     "end_time": "2022-06-16T16:32:02.982256Z",
     "start_time": "2022-06-16T16:32:02.976218Z"
    }
   },
   "outputs": [
    {
     "name": "stdout",
     "output_type": "stream",
     "text": [
      "1 1631\n"
     ]
    }
   ],
   "source": [
    "ini = int(qtd['qtd'][0]) + 1\n",
    "fim = ini + qtd_linhas_por_carga\n",
    "df = df[ini:fim]\n",
    "print(ini, fim)"
   ]
  },
  {
   "cell_type": "code",
   "execution_count": 8,
   "id": "94dd69ed",
   "metadata": {
    "ExecuteTime": {
     "end_time": "2022-06-16T16:32:03.007038Z",
     "start_time": "2022-06-16T16:32:02.985404Z"
    }
   },
   "outputs": [
    {
     "data": {
      "text/html": [
       "<div>\n",
       "<style scoped>\n",
       "    .dataframe tbody tr th:only-of-type {\n",
       "        vertical-align: middle;\n",
       "    }\n",
       "\n",
       "    .dataframe tbody tr th {\n",
       "        vertical-align: top;\n",
       "    }\n",
       "\n",
       "    .dataframe thead th {\n",
       "        text-align: right;\n",
       "    }\n",
       "</style>\n",
       "<table border=\"1\" class=\"dataframe\">\n",
       "  <thead>\n",
       "    <tr style=\"text-align: right;\">\n",
       "      <th></th>\n",
       "      <th>age</th>\n",
       "      <th>workclass</th>\n",
       "      <th>fnlwgt</th>\n",
       "      <th>education</th>\n",
       "      <th>education-num</th>\n",
       "      <th>marital-status</th>\n",
       "      <th>occupation</th>\n",
       "      <th>relationship</th>\n",
       "      <th>race</th>\n",
       "      <th>sex</th>\n",
       "      <th>capital-gain</th>\n",
       "      <th>capital-loss</th>\n",
       "      <th>hours-per-week</th>\n",
       "      <th>native-country</th>\n",
       "      <th>class</th>\n",
       "      <th>index_col</th>\n",
       "    </tr>\n",
       "  </thead>\n",
       "  <tbody>\n",
       "    <tr>\n",
       "      <th>1</th>\n",
       "      <td>25</td>\n",
       "      <td>Private</td>\n",
       "      <td>226802.0</td>\n",
       "      <td>11th</td>\n",
       "      <td>7.0</td>\n",
       "      <td>Never-married</td>\n",
       "      <td>Machine-op-inspct</td>\n",
       "      <td>Own-child</td>\n",
       "      <td>Black</td>\n",
       "      <td>Male</td>\n",
       "      <td>0.0</td>\n",
       "      <td>0.0</td>\n",
       "      <td>40</td>\n",
       "      <td>United-States</td>\n",
       "      <td>&lt;=50K.</td>\n",
       "      <td>1</td>\n",
       "    </tr>\n",
       "    <tr>\n",
       "      <th>2</th>\n",
       "      <td>38</td>\n",
       "      <td>Private</td>\n",
       "      <td>89814.0</td>\n",
       "      <td>HS-grad</td>\n",
       "      <td>9.0</td>\n",
       "      <td>Married-civ-spouse</td>\n",
       "      <td>Farming-fishing</td>\n",
       "      <td>Husband</td>\n",
       "      <td>White</td>\n",
       "      <td>Male</td>\n",
       "      <td>0.0</td>\n",
       "      <td>0.0</td>\n",
       "      <td>50</td>\n",
       "      <td>United-States</td>\n",
       "      <td>&lt;=50K.</td>\n",
       "      <td>2</td>\n",
       "    </tr>\n",
       "    <tr>\n",
       "      <th>3</th>\n",
       "      <td>28</td>\n",
       "      <td>Local-gov</td>\n",
       "      <td>336951.0</td>\n",
       "      <td>Assoc-acdm</td>\n",
       "      <td>12.0</td>\n",
       "      <td>Married-civ-spouse</td>\n",
       "      <td>Protective-serv</td>\n",
       "      <td>Husband</td>\n",
       "      <td>White</td>\n",
       "      <td>Male</td>\n",
       "      <td>0.0</td>\n",
       "      <td>0.0</td>\n",
       "      <td>40</td>\n",
       "      <td>United-States</td>\n",
       "      <td>&gt;50K.</td>\n",
       "      <td>3</td>\n",
       "    </tr>\n",
       "    <tr>\n",
       "      <th>4</th>\n",
       "      <td>44</td>\n",
       "      <td>Private</td>\n",
       "      <td>160323.0</td>\n",
       "      <td>Some-college</td>\n",
       "      <td>10.0</td>\n",
       "      <td>Married-civ-spouse</td>\n",
       "      <td>Machine-op-inspct</td>\n",
       "      <td>Husband</td>\n",
       "      <td>Black</td>\n",
       "      <td>Male</td>\n",
       "      <td>7688.0</td>\n",
       "      <td>0.0</td>\n",
       "      <td>40</td>\n",
       "      <td>United-States</td>\n",
       "      <td>&gt;50K.</td>\n",
       "      <td>4</td>\n",
       "    </tr>\n",
       "    <tr>\n",
       "      <th>5</th>\n",
       "      <td>18</td>\n",
       "      <td>?</td>\n",
       "      <td>103497.0</td>\n",
       "      <td>Some-college</td>\n",
       "      <td>10.0</td>\n",
       "      <td>Never-married</td>\n",
       "      <td>?</td>\n",
       "      <td>Own-child</td>\n",
       "      <td>White</td>\n",
       "      <td>Female</td>\n",
       "      <td>0.0</td>\n",
       "      <td>0.0</td>\n",
       "      <td>30</td>\n",
       "      <td>United-States</td>\n",
       "      <td>&lt;=50K.</td>\n",
       "      <td>5</td>\n",
       "    </tr>\n",
       "  </tbody>\n",
       "</table>\n",
       "</div>"
      ],
      "text/plain": [
       "  age   workclass    fnlwgt      education  education-num  \\\n",
       "1  25     Private  226802.0           11th            7.0   \n",
       "2  38     Private   89814.0        HS-grad            9.0   \n",
       "3  28   Local-gov  336951.0     Assoc-acdm           12.0   \n",
       "4  44     Private  160323.0   Some-college           10.0   \n",
       "5  18           ?  103497.0   Some-college           10.0   \n",
       "\n",
       "        marital-status          occupation relationship    race      sex  \\\n",
       "1        Never-married   Machine-op-inspct    Own-child   Black     Male   \n",
       "2   Married-civ-spouse     Farming-fishing      Husband   White     Male   \n",
       "3   Married-civ-spouse     Protective-serv      Husband   White     Male   \n",
       "4   Married-civ-spouse   Machine-op-inspct      Husband   Black     Male   \n",
       "5        Never-married                   ?    Own-child   White   Female   \n",
       "\n",
       "   capital-gain  capital-loss hours-per-week  native-country    class  \\\n",
       "1           0.0           0.0             40   United-States   <=50K.   \n",
       "2           0.0           0.0             50   United-States   <=50K.   \n",
       "3           0.0           0.0             40   United-States    >50K.   \n",
       "4        7688.0           0.0             40   United-States    >50K.   \n",
       "5           0.0           0.0             30   United-States   <=50K.   \n",
       "\n",
       "   index_col  \n",
       "1          1  \n",
       "2          2  \n",
       "3          3  \n",
       "4          4  \n",
       "5          5  "
      ]
     },
     "execution_count": 8,
     "metadata": {},
     "output_type": "execute_result"
    }
   ],
   "source": [
    "df.head()"
   ]
  },
  {
   "cell_type": "code",
   "execution_count": 9,
   "id": "367a6b69",
   "metadata": {
    "ExecuteTime": {
     "end_time": "2022-06-16T16:32:03.019725Z",
     "start_time": "2022-06-16T16:32:03.010825Z"
    }
   },
   "outputs": [],
   "source": [
    "dominio = {\n",
    "    'workclass': [\n",
    "        'Private', 'Self-emp-not-inc', 'Self-emp-inc', 'Federal-gov',\n",
    "        'Local-gov', 'State-gov', 'Without-pay', 'Never-worked'\n",
    "    ],\n",
    "    'education': [\n",
    "        'Bachelors', 'Some-college', '11th', 'HS-grad', 'Prof-school',\n",
    "        'Assoc-acdm', 'Assoc-voc', '9th', '7th-8th', '12th', 'Masters',\n",
    "        '1st-4th', '10th', 'Doctorate', '5th-6th', 'Preschool'\n",
    "    ],\n",
    "    'marital-status': [\n",
    "        'Married-civ-spouse', 'Divorced', 'Never-married', 'Separated',\n",
    "        'Widowed', 'Married-spouse-absent', 'Married-AF-spouse'\n",
    "    ],\n",
    "    'occupation': [\n",
    "        'Tech-support', 'Craft-repair', 'Other-service', 'Sales',\n",
    "        'Exec-managerial', 'Prof-specialty', 'Handlers-cleaners',\n",
    "        'Machine-op-inspct', 'Adm-clerical', 'Farming-fishing',\n",
    "        'Transport-moving', 'Priv-house-serv', 'Protective-serv',\n",
    "        'Armed-Forces'\n",
    "    ],\n",
    "    'relationship': [\n",
    "        'Wife', 'Own-child', 'Husband', 'Not-in-family', 'Other-relative',\n",
    "        'Unmarried'\n",
    "    ],\n",
    "    'race':\n",
    "    ['White', 'Asian-Pac-Islander', 'Amer-Indian-Eskimo', 'Other', 'Black'],\n",
    "    'sex': ['Male', 'Female'],\n",
    "    'native-country': [\n",
    "        'United-States', 'Cambodia', 'England', 'Puerto-Rico', 'Canada',\n",
    "        'Germany', 'Outlying-US(Guam-USVI-etc)', 'India', 'Japan', 'Greece',\n",
    "        'South', 'China', 'Cuba', 'Iran', 'Honduras', 'Philippines', 'Italy',\n",
    "        'Poland', 'Jamaica', 'Vietnam', 'Mexico', 'Portugal', 'Ireland',\n",
    "        'France', 'Dominican-Republic', 'Laos', 'Ecuador', 'Taiwan', 'Haiti',\n",
    "        'Columbia', 'Hungary', 'Guatemala', 'Nicaragua', 'Scotland',\n",
    "        'Thailand', 'Yugoslavia', 'El-Salvador', 'Trinadad&Tobago', 'Peru',\n",
    "        'Hong', 'Holand-Netherlands'\n",
    "    ],\n",
    "    'class': ['>50K.', '<=50K.']\n",
    "}"
   ]
  },
  {
   "cell_type": "code",
   "execution_count": 10,
   "id": "dfeec2b2",
   "metadata": {
    "ExecuteTime": {
     "end_time": "2022-06-16T16:32:03.036832Z",
     "start_time": "2022-06-16T16:32:03.025617Z"
    }
   },
   "outputs": [],
   "source": [
    "campos_numericos = [\n",
    "    'age', 'education-num', 'capital-gain', 'capital-loss', 'hours-per-week'\n",
    "]"
   ]
  },
  {
   "cell_type": "code",
   "execution_count": 11,
   "id": "728bef53",
   "metadata": {
    "ExecuteTime": {
     "end_time": "2022-06-16T16:32:03.044447Z",
     "start_time": "2022-06-16T16:32:03.039094Z"
    }
   },
   "outputs": [],
   "source": [
    "df = df[df.age.str.isnumeric()]"
   ]
  },
  {
   "cell_type": "code",
   "execution_count": 12,
   "id": "701ad096",
   "metadata": {
    "ExecuteTime": {
     "end_time": "2022-06-16T16:32:03.056921Z",
     "start_time": "2022-06-16T16:32:03.048633Z"
    }
   },
   "outputs": [],
   "source": [
    "def trata_coluna_string(coluna, dominio):\n",
    "    coluna.fillna('', inplace=True)\n",
    "    coluna = coluna.apply(lambda x: x.strip())\n",
    "    coluna = coluna.apply(lambda x: x.upper())\n",
    "    dominio = [x.upper() for x in dominio]\n",
    "    coluna = coluna[coluna.isin(dominio)]\n",
    "\n",
    "    return coluna"
   ]
  },
  {
   "cell_type": "code",
   "execution_count": 13,
   "id": "3debc89d",
   "metadata": {
    "ExecuteTime": {
     "end_time": "2022-06-16T16:32:03.067178Z",
     "start_time": "2022-06-16T16:32:03.059916Z"
    }
   },
   "outputs": [],
   "source": [
    "def trata_coluna_numerico(dfc, i):\n",
    "    dfc[i] = pd.to_numeric(dfc[i], errors='coerce')\n",
    "    dfc[i].fillna(-2, inplace=True)\n",
    "    \n",
    "    return dfc[i]"
   ]
  },
  {
   "cell_type": "code",
   "execution_count": 14,
   "id": "ff65dfd4",
   "metadata": {
    "ExecuteTime": {
     "end_time": "2022-06-16T16:32:03.105062Z",
     "start_time": "2022-06-16T16:32:03.073110Z"
    }
   },
   "outputs": [],
   "source": [
    "for i, k in dominio.items():\n",
    "    df[i] = trata_coluna_string(df[i], k)"
   ]
  },
  {
   "cell_type": "code",
   "execution_count": 15,
   "id": "dd583047",
   "metadata": {
    "ExecuteTime": {
     "end_time": "2022-06-16T16:32:03.128456Z",
     "start_time": "2022-06-16T16:32:03.110693Z"
    }
   },
   "outputs": [],
   "source": [
    "for i in campos_numericos:\n",
    "    df[i] = trata_coluna_numerico(df, i)"
   ]
  },
  {
   "cell_type": "code",
   "execution_count": 16,
   "id": "6e7f3caa",
   "metadata": {
    "ExecuteTime": {
     "end_time": "2022-06-16T16:32:03.134231Z",
     "start_time": "2022-06-16T16:32:03.131094Z"
    }
   },
   "outputs": [],
   "source": [
    "# df['hours-per-week'] = pd.to_numeric(df['hours-per-week'], errors='coerce')\n",
    "# df['hours-per-week'].fillna(-2, inplace=True)"
   ]
  },
  {
   "cell_type": "code",
   "execution_count": 17,
   "id": "8de74ecd",
   "metadata": {
    "ExecuteTime": {
     "end_time": "2022-06-16T16:32:03.153152Z",
     "start_time": "2022-06-16T16:32:03.136129Z"
    }
   },
   "outputs": [],
   "source": [
    "c = {'>50K.': True, '<=50K.': False}\n",
    "df['class'] = df['class'].map(c)"
   ]
  },
  {
   "cell_type": "code",
   "execution_count": 18,
   "id": "1b499c71",
   "metadata": {
    "ExecuteTime": {
     "end_time": "2022-06-16T16:32:03.167007Z",
     "start_time": "2022-06-16T16:32:03.156884Z"
    }
   },
   "outputs": [],
   "source": [
    "df.fillna('não identificado', inplace=True)"
   ]
  },
  {
   "cell_type": "code",
   "execution_count": 19,
   "id": "98c5c2b4",
   "metadata": {
    "ExecuteTime": {
     "end_time": "2022-06-16T16:32:03.199270Z",
     "start_time": "2022-06-16T16:32:03.170706Z"
    }
   },
   "outputs": [
    {
     "data": {
      "text/html": [
       "<div>\n",
       "<style scoped>\n",
       "    .dataframe tbody tr th:only-of-type {\n",
       "        vertical-align: middle;\n",
       "    }\n",
       "\n",
       "    .dataframe tbody tr th {\n",
       "        vertical-align: top;\n",
       "    }\n",
       "\n",
       "    .dataframe thead th {\n",
       "        text-align: right;\n",
       "    }\n",
       "</style>\n",
       "<table border=\"1\" class=\"dataframe\">\n",
       "  <thead>\n",
       "    <tr style=\"text-align: right;\">\n",
       "      <th></th>\n",
       "      <th>age</th>\n",
       "      <th>workclass</th>\n",
       "      <th>fnlwgt</th>\n",
       "      <th>education</th>\n",
       "      <th>education-num</th>\n",
       "      <th>marital-status</th>\n",
       "      <th>occupation</th>\n",
       "      <th>relationship</th>\n",
       "      <th>race</th>\n",
       "      <th>sex</th>\n",
       "      <th>capital-gain</th>\n",
       "      <th>capital-loss</th>\n",
       "      <th>hours-per-week</th>\n",
       "      <th>native-country</th>\n",
       "      <th>class</th>\n",
       "      <th>index_col</th>\n",
       "    </tr>\n",
       "  </thead>\n",
       "  <tbody>\n",
       "    <tr>\n",
       "      <th>1</th>\n",
       "      <td>25</td>\n",
       "      <td>PRIVATE</td>\n",
       "      <td>226802.0</td>\n",
       "      <td>11TH</td>\n",
       "      <td>7.0</td>\n",
       "      <td>NEVER-MARRIED</td>\n",
       "      <td>MACHINE-OP-INSPCT</td>\n",
       "      <td>OWN-CHILD</td>\n",
       "      <td>BLACK</td>\n",
       "      <td>MALE</td>\n",
       "      <td>0.0</td>\n",
       "      <td>0.0</td>\n",
       "      <td>40.0</td>\n",
       "      <td>UNITED-STATES</td>\n",
       "      <td>False</td>\n",
       "      <td>1</td>\n",
       "    </tr>\n",
       "    <tr>\n",
       "      <th>2</th>\n",
       "      <td>38</td>\n",
       "      <td>PRIVATE</td>\n",
       "      <td>89814.0</td>\n",
       "      <td>HS-GRAD</td>\n",
       "      <td>9.0</td>\n",
       "      <td>MARRIED-CIV-SPOUSE</td>\n",
       "      <td>FARMING-FISHING</td>\n",
       "      <td>HUSBAND</td>\n",
       "      <td>WHITE</td>\n",
       "      <td>MALE</td>\n",
       "      <td>0.0</td>\n",
       "      <td>0.0</td>\n",
       "      <td>50.0</td>\n",
       "      <td>UNITED-STATES</td>\n",
       "      <td>False</td>\n",
       "      <td>2</td>\n",
       "    </tr>\n",
       "    <tr>\n",
       "      <th>3</th>\n",
       "      <td>28</td>\n",
       "      <td>LOCAL-GOV</td>\n",
       "      <td>336951.0</td>\n",
       "      <td>ASSOC-ACDM</td>\n",
       "      <td>12.0</td>\n",
       "      <td>MARRIED-CIV-SPOUSE</td>\n",
       "      <td>PROTECTIVE-SERV</td>\n",
       "      <td>HUSBAND</td>\n",
       "      <td>WHITE</td>\n",
       "      <td>MALE</td>\n",
       "      <td>0.0</td>\n",
       "      <td>0.0</td>\n",
       "      <td>40.0</td>\n",
       "      <td>UNITED-STATES</td>\n",
       "      <td>True</td>\n",
       "      <td>3</td>\n",
       "    </tr>\n",
       "    <tr>\n",
       "      <th>4</th>\n",
       "      <td>44</td>\n",
       "      <td>PRIVATE</td>\n",
       "      <td>160323.0</td>\n",
       "      <td>SOME-COLLEGE</td>\n",
       "      <td>10.0</td>\n",
       "      <td>MARRIED-CIV-SPOUSE</td>\n",
       "      <td>MACHINE-OP-INSPCT</td>\n",
       "      <td>HUSBAND</td>\n",
       "      <td>BLACK</td>\n",
       "      <td>MALE</td>\n",
       "      <td>7688.0</td>\n",
       "      <td>0.0</td>\n",
       "      <td>40.0</td>\n",
       "      <td>UNITED-STATES</td>\n",
       "      <td>True</td>\n",
       "      <td>4</td>\n",
       "    </tr>\n",
       "    <tr>\n",
       "      <th>5</th>\n",
       "      <td>18</td>\n",
       "      <td>não identificado</td>\n",
       "      <td>103497.0</td>\n",
       "      <td>SOME-COLLEGE</td>\n",
       "      <td>10.0</td>\n",
       "      <td>NEVER-MARRIED</td>\n",
       "      <td>não identificado</td>\n",
       "      <td>OWN-CHILD</td>\n",
       "      <td>WHITE</td>\n",
       "      <td>FEMALE</td>\n",
       "      <td>0.0</td>\n",
       "      <td>0.0</td>\n",
       "      <td>30.0</td>\n",
       "      <td>UNITED-STATES</td>\n",
       "      <td>False</td>\n",
       "      <td>5</td>\n",
       "    </tr>\n",
       "  </tbody>\n",
       "</table>\n",
       "</div>"
      ],
      "text/plain": [
       "   age         workclass    fnlwgt     education  education-num  \\\n",
       "1   25           PRIVATE  226802.0          11TH            7.0   \n",
       "2   38           PRIVATE   89814.0       HS-GRAD            9.0   \n",
       "3   28         LOCAL-GOV  336951.0    ASSOC-ACDM           12.0   \n",
       "4   44           PRIVATE  160323.0  SOME-COLLEGE           10.0   \n",
       "5   18  não identificado  103497.0  SOME-COLLEGE           10.0   \n",
       "\n",
       "       marital-status         occupation relationship   race     sex  \\\n",
       "1       NEVER-MARRIED  MACHINE-OP-INSPCT    OWN-CHILD  BLACK    MALE   \n",
       "2  MARRIED-CIV-SPOUSE    FARMING-FISHING      HUSBAND  WHITE    MALE   \n",
       "3  MARRIED-CIV-SPOUSE    PROTECTIVE-SERV      HUSBAND  WHITE    MALE   \n",
       "4  MARRIED-CIV-SPOUSE  MACHINE-OP-INSPCT      HUSBAND  BLACK    MALE   \n",
       "5       NEVER-MARRIED   não identificado    OWN-CHILD  WHITE  FEMALE   \n",
       "\n",
       "   capital-gain  capital-loss  hours-per-week native-country  class  index_col  \n",
       "1           0.0           0.0            40.0  UNITED-STATES  False          1  \n",
       "2           0.0           0.0            50.0  UNITED-STATES  False          2  \n",
       "3           0.0           0.0            40.0  UNITED-STATES   True          3  \n",
       "4        7688.0           0.0            40.0  UNITED-STATES   True          4  \n",
       "5           0.0           0.0            30.0  UNITED-STATES  False          5  "
      ]
     },
     "execution_count": 19,
     "metadata": {},
     "output_type": "execute_result"
    }
   ],
   "source": [
    "df.head()"
   ]
  },
  {
   "cell_type": "code",
   "execution_count": 20,
   "id": "fc8fb8ef",
   "metadata": {
    "ExecuteTime": {
     "end_time": "2022-06-16T16:32:03.242238Z",
     "start_time": "2022-06-16T16:32:03.202929Z"
    }
   },
   "outputs": [],
   "source": [
    "df.to_sql('df', con=conn, index=False, if_exists='append')"
   ]
  }
 ],
 "metadata": {
  "kernelspec": {
   "display_name": "Python 3 (ipykernel)",
   "language": "python",
   "name": "python3"
  },
  "language_info": {
   "codemirror_mode": {
    "name": "ipython",
    "version": 3
   },
   "file_extension": ".py",
   "mimetype": "text/x-python",
   "name": "python",
   "nbconvert_exporter": "python",
   "pygments_lexer": "ipython3",
   "version": "3.8.10"
  },
  "toc": {
   "base_numbering": 1,
   "nav_menu": {},
   "number_sections": true,
   "sideBar": true,
   "skip_h1_title": false,
   "title_cell": "Table of Contents",
   "title_sidebar": "Contents",
   "toc_cell": false,
   "toc_position": {},
   "toc_section_display": true,
   "toc_window_display": false
  }
 },
 "nbformat": 4,
 "nbformat_minor": 5
}

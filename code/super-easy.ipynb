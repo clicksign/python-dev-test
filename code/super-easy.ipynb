{
 "cells": [
  {
   "cell_type": "code",
   "execution_count": 1,
   "id": "476800c4",
   "metadata": {
    "ExecuteTime": {
     "end_time": "2022-06-20T19:30:21.490883Z",
     "start_time": "2022-06-20T19:30:21.095079Z"
    }
   },
   "outputs": [],
   "source": [
    "import pandas as pd\n",
    "import sqlite3\n",
    "from time import sleep"
   ]
  },
  {
   "cell_type": "markdown",
   "id": "af3a8f04",
   "metadata": {},
   "source": [
    "# banco de dados SQLite"
   ]
  },
  {
   "cell_type": "code",
   "execution_count": 2,
   "id": "ab088226",
   "metadata": {
    "ExecuteTime": {
     "end_time": "2022-06-20T19:30:21.496660Z",
     "start_time": "2022-06-20T19:30:21.492645Z"
    }
   },
   "outputs": [],
   "source": [
    "db_name = 'us_census_bureau_easy.db'"
   ]
  },
  {
   "cell_type": "code",
   "execution_count": 3,
   "id": "a6c31c50",
   "metadata": {
    "ExecuteTime": {
     "end_time": "2022-06-20T19:30:21.547185Z",
     "start_time": "2022-06-20T19:30:21.499500Z"
    }
   },
   "outputs": [],
   "source": [
    "conn = sqlite3.connect(db_name)  # conexão com o banco"
   ]
  },
  {
   "cell_type": "markdown",
   "id": "a05bdc1d",
   "metadata": {},
   "source": [
    "# arquivos que serão importados"
   ]
  },
  {
   "cell_type": "code",
   "execution_count": 4,
   "id": "f2860c82",
   "metadata": {
    "ExecuteTime": {
     "end_time": "2022-06-20T19:30:22.213198Z",
     "start_time": "2022-06-20T19:30:21.549752Z"
    }
   },
   "outputs": [],
   "source": [
    "data = pd.read_csv(\n",
    "    \"https://raw.githubusercontent.com/clicksign/python-dev-test/master/data/Adult.data\",\n",
    "    names=[\n",
    "        'age', 'workclass', 'fnlwgt', 'education', 'education-num',\n",
    "        'marital-status', 'occupation', 'relationship', 'race', 'sex',\n",
    "        'capital-gain', 'capital-loss', 'hours-per-week', 'native-country',\n",
    "        'class'\n",
    "    ])"
   ]
  },
  {
   "cell_type": "code",
   "execution_count": 5,
   "id": "89816674",
   "metadata": {
    "ExecuteTime": {
     "end_time": "2022-06-20T19:30:22.691133Z",
     "start_time": "2022-06-20T19:30:22.214886Z"
    }
   },
   "outputs": [],
   "source": [
    "test = pd.read_csv(\n",
    "    \"https://raw.githubusercontent.com/clicksign/python-dev-test/master/data/Adult.test\",\n",
    "    names=[\n",
    "        'age', 'workclass', 'fnlwgt', 'education', 'education-num',\n",
    "        'marital-status', 'occupation', 'relationship', 'race', 'sex',\n",
    "        'capital-gain', 'capital-loss', 'hours-per-week', 'native-country',\n",
    "        'class'\n",
    "    ])"
   ]
  },
  {
   "cell_type": "markdown",
   "id": "f10a6bf8",
   "metadata": {
    "ExecuteTime": {
     "end_time": "2022-06-20T19:23:11.864303Z",
     "start_time": "2022-06-20T19:23:11.858059Z"
    }
   },
   "source": [
    "# Concatenando os arquivos"
   ]
  },
  {
   "cell_type": "code",
   "execution_count": 6,
   "id": "d33d1c80",
   "metadata": {
    "ExecuteTime": {
     "end_time": "2022-06-20T19:30:22.721088Z",
     "start_time": "2022-06-20T19:30:22.692921Z"
    }
   },
   "outputs": [
    {
     "data": {
      "text/plain": [
       "48843"
      ]
     },
     "execution_count": 6,
     "metadata": {},
     "output_type": "execute_result"
    }
   ],
   "source": [
    "df = pd.concat([data, test])\n",
    "qtd = len(df)\n",
    "qtd"
   ]
  },
  {
   "cell_type": "markdown",
   "id": "e94f2eff",
   "metadata": {},
   "source": [
    "# Inserindo os dados\n",
    "\n",
    "- 1630 registros por vez\n",
    "- a cada 10 segundos"
   ]
  },
  {
   "cell_type": "code",
   "execution_count": 7,
   "id": "09ff2506",
   "metadata": {
    "ExecuteTime": {
     "end_time": "2022-06-20T19:33:47.238340Z",
     "start_time": "2022-06-20T19:30:22.722810Z"
    }
   },
   "outputs": [
    {
     "name": "stdout",
     "output_type": "stream",
     "text": [
      "45583\n",
      "42323\n",
      "39063\n",
      "35803\n",
      "32543\n",
      "29283\n",
      "26023\n",
      "22763\n",
      "19503\n",
      "16261\n",
      "14631\n",
      "13001\n",
      "11371\n",
      "9741\n",
      "8111\n",
      "6481\n",
      "4851\n",
      "3221\n",
      "1591\n",
      "0\n"
     ]
    }
   ],
   "source": [
    "while qtd > 0:\n",
    "    insere = df.tail(1630).index\n",
    "    df.drop(insere, inplace=True)\n",
    "    df.to_sql('df', con=conn, index=False, if_exists='append')\n",
    "    qtd = len(df)\n",
    "    print(qtd)\n",
    "    sleep(10)"
   ]
  }
 ],
 "metadata": {
  "kernelspec": {
   "display_name": "Python 3 (ipykernel)",
   "language": "python",
   "name": "python3"
  },
  "language_info": {
   "codemirror_mode": {
    "name": "ipython",
    "version": 3
   },
   "file_extension": ".py",
   "mimetype": "text/x-python",
   "name": "python",
   "nbconvert_exporter": "python",
   "pygments_lexer": "ipython3",
   "version": "3.8.10"
  },
  "toc": {
   "base_numbering": 1,
   "nav_menu": {},
   "number_sections": true,
   "sideBar": true,
   "skip_h1_title": false,
   "title_cell": "Table of Contents",
   "title_sidebar": "Contents",
   "toc_cell": false,
   "toc_position": {},
   "toc_section_display": true,
   "toc_window_display": false
  }
 },
 "nbformat": 4,
 "nbformat_minor": 5
}
